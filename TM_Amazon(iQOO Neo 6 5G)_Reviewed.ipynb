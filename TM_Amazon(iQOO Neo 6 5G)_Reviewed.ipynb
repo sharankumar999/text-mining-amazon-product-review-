{
 "cells": [
  {
   "cell_type": "markdown",
   "metadata": {},
   "source": [
    "# Objective:-We want to analyze custumer review"
   ]
  },
  {
   "cell_type": "code",
   "execution_count": 1,
   "metadata": {},
   "outputs": [
    {
     "name": "stdout",
     "output_type": "stream",
     "text": [
      "Requirement already satisfied: textblob in c:\\users\\dell\\anaconda3\\lib\\site-packages (0.17.1)\n",
      "Requirement already satisfied: nltk>=3.1 in c:\\users\\dell\\anaconda3\\lib\\site-packages (from textblob) (3.6.5)\n",
      "Requirement already satisfied: click in c:\\users\\dell\\anaconda3\\lib\\site-packages (from nltk>=3.1->textblob) (8.0.3)\n",
      "Requirement already satisfied: joblib in c:\\users\\dell\\anaconda3\\lib\\site-packages (from nltk>=3.1->textblob) (1.1.0)\n",
      "Requirement already satisfied: regex>=2021.8.3 in c:\\users\\dell\\anaconda3\\lib\\site-packages (from nltk>=3.1->textblob) (2021.8.3)\n",
      "Requirement already satisfied: tqdm in c:\\users\\dell\\anaconda3\\lib\\site-packages (from nltk>=3.1->textblob) (4.62.3)\n",
      "Requirement already satisfied: colorama in c:\\users\\dell\\anaconda3\\lib\\site-packages (from click->nltk>=3.1->textblob) (0.4.4)\n"
     ]
    }
   ],
   "source": [
    "!pip install -U textblob\n"
   ]
  },
  {
   "cell_type": "code",
   "execution_count": 2,
   "metadata": {},
   "outputs": [
    {
     "name": "stdout",
     "output_type": "stream",
     "text": [
      "Finished.\n"
     ]
    },
    {
     "name": "stderr",
     "output_type": "stream",
     "text": [
      "[nltk_data] Downloading package brown to\n",
      "[nltk_data]     C:\\Users\\DELL\\AppData\\Roaming\\nltk_data...\n",
      "[nltk_data]   Package brown is already up-to-date!\n",
      "[nltk_data] Downloading package punkt to\n",
      "[nltk_data]     C:\\Users\\DELL\\AppData\\Roaming\\nltk_data...\n",
      "[nltk_data]   Package punkt is already up-to-date!\n",
      "[nltk_data] Downloading package wordnet to\n",
      "[nltk_data]     C:\\Users\\DELL\\AppData\\Roaming\\nltk_data...\n",
      "[nltk_data]   Package wordnet is already up-to-date!\n",
      "[nltk_data] Downloading package averaged_perceptron_tagger to\n",
      "[nltk_data]     C:\\Users\\DELL\\AppData\\Roaming\\nltk_data...\n",
      "[nltk_data]   Package averaged_perceptron_tagger is already up-to-\n",
      "[nltk_data]       date!\n",
      "[nltk_data] Downloading package conll2000 to\n",
      "[nltk_data]     C:\\Users\\DELL\\AppData\\Roaming\\nltk_data...\n",
      "[nltk_data]   Package conll2000 is already up-to-date!\n",
      "[nltk_data] Downloading package movie_reviews to\n",
      "[nltk_data]     C:\\Users\\DELL\\AppData\\Roaming\\nltk_data...\n",
      "[nltk_data]   Package movie_reviews is already up-to-date!\n"
     ]
    }
   ],
   "source": [
    "!python -m textblob.download_corpora"
   ]
  },
  {
   "cell_type": "code",
   "execution_count": 3,
   "metadata": {},
   "outputs": [
    {
     "name": "stdout",
     "output_type": "stream",
     "text": [
      "Requirement already satisfied: wordcloud in c:\\users\\dell\\anaconda3\\lib\\site-packages (1.8.2.2)\n",
      "Requirement already satisfied: matplotlib in c:\\users\\dell\\anaconda3\\lib\\site-packages (from wordcloud) (3.4.3)\n",
      "Requirement already satisfied: pillow in c:\\users\\dell\\anaconda3\\lib\\site-packages (from wordcloud) (8.4.0)\n",
      "Requirement already satisfied: numpy>=1.6.1 in c:\\users\\dell\\anaconda3\\lib\\site-packages (from wordcloud) (1.20.3)\n",
      "Requirement already satisfied: python-dateutil>=2.7 in c:\\users\\dell\\anaconda3\\lib\\site-packages (from matplotlib->wordcloud) (2.8.2)\n",
      "Requirement already satisfied: cycler>=0.10 in c:\\users\\dell\\anaconda3\\lib\\site-packages (from matplotlib->wordcloud) (0.10.0)\n",
      "Requirement already satisfied: pyparsing>=2.2.1 in c:\\users\\dell\\anaconda3\\lib\\site-packages (from matplotlib->wordcloud) (3.0.4)\n",
      "Requirement already satisfied: kiwisolver>=1.0.1 in c:\\users\\dell\\anaconda3\\lib\\site-packages (from matplotlib->wordcloud) (1.3.1)\n",
      "Requirement already satisfied: six in c:\\users\\dell\\anaconda3\\lib\\site-packages (from cycler>=0.10->matplotlib->wordcloud) (1.16.0)\n"
     ]
    }
   ],
   "source": [
    "!pip install wordcloud"
   ]
  },
  {
   "cell_type": "code",
   "execution_count": 4,
   "metadata": {
    "ExecuteTime": {
     "end_time": "2021-01-03T11:08:23.243485Z",
     "start_time": "2021-01-03T11:08:21.290945Z"
    }
   },
   "outputs": [],
   "source": [
    "\n",
    "from bs4 import BeautifulSoup as bs #Beautiful Soup is a Python library for pulling data out of HTML and XML files.\n",
    "import requests # making HTTP requests in Python"
   ]
  },
  {
   "cell_type": "code",
   "execution_count": 5,
   "metadata": {
    "ExecuteTime": {
     "end_time": "2021-01-03T11:09:20.861476Z",
     "start_time": "2021-01-03T11:09:20.857501Z"
    }
   },
   "outputs": [],
   "source": [
    "bt='https://www.amazon.in'\n",
    "#ul='https://www.amazon.in/Samsung-Galaxy-Light-Blue-128GB/dp/B0B4PSD221/ref=sr_1_1?crid=2WBZFJL9LGNPK&keywords=samsung+A23&qid=1656943981&refinements=p_n_feature_eight_browse-bin%3A8561117031&rnid=8561111031&s=electronics&sprefix=samsung+a23%2Caps%2C304&sr=1-1'\n",
    "ul='https://www.amazon.in/iQOO-128GB-Storage-Snapdragon%C2%AE-FlashCharge/product-reviews/B07WDKLDRX/ref=cm_cr_arp_d_paging_btm_next_2?ie=UTF8&reviewerType=all_reviews&pageNumber=2'"
   ]
  },
  {
   "cell_type": "code",
   "execution_count": 6,
   "metadata": {},
   "outputs": [
    {
     "ename": "SyntaxError",
     "evalue": "invalid syntax (Temp/ipykernel_27384/4253597424.py, line 1)",
     "output_type": "error",
     "traceback": [
      "\u001b[1;36m  File \u001b[1;32m\"C:\\Users\\DELL\\AppData\\Local\\Temp/ipykernel_27384/4253597424.py\"\u001b[1;36m, line \u001b[1;32m1\u001b[0m\n\u001b[1;33m    https://www.amazon.in/iQOO-128GB-Storage-Snapdragon%C2%AE-FlashCharge/product-reviews/B07WDKLDRX/ref=cm_cr_dp_d_show_all_btm?ie=UTF8&reviewerType=all_reviews\u001b[0m\n\u001b[1;37m          ^\u001b[0m\n\u001b[1;31mSyntaxError\u001b[0m\u001b[1;31m:\u001b[0m invalid syntax\n"
     ]
    }
   ],
   "source": [
    "#https://www.amazon.in/iQOO-128GB-Storage-Snapdragon%C2%AE-FlashCharge/product-reviews/B07WDKLDRX/ref=cm_cr_dp_d_show_all_btm?ie=UTF8&reviewerType=all_reviews\n",
    "#https://www.amazon.in/iQOO-128GB-Storage-Snapdragon%C2%AE-FlashCharge/product-reviews/B07WDKLDRX/ref=cm_cr_arp_d_paging_btm_next_2?ie=UTF8&reviewerType="
   ]
  },
  {
   "cell_type": "code",
   "execution_count": 7,
   "metadata": {
    "ExecuteTime": {
     "end_time": "2021-01-03T14:00:18.494651Z",
     "start_time": "2021-01-03T14:00:18.488651Z"
    }
   },
   "outputs": [],
   "source": [
    "cust_name = []   #define list to store Name of the customers\n",
    "review_title = []\n",
    "rate = []\n",
    "review_content = []"
   ]
  },
  {
   "cell_type": "code",
   "execution_count": 9,
   "metadata": {
    "ExecuteTime": {
     "end_time": "2021-01-03T14:00:20.897766Z",
     "start_time": "2021-01-03T14:00:20.301164Z"
    }
   },
   "outputs": [],
   "source": [
    "tt = 0\n",
    "while tt == 0:\n",
    "    page = requests.get(ul)\n",
    "    while page.ok == False:#if it fails to connect then this loop will be executing continuously until get response from site  \n",
    "        page = requests.get(ul)\n",
    "   \n",
    "\n",
    "    soup = bs(page.content,'html.parser')\n",
    "    soup.prettify()       #Prettify() function in BeautifulSoup will enable us to view how the tags are nested in the document.\n",
    "    \n",
    "    names = soup.find_all('span', class_='a-profile-name')\n",
    "    names.pop(0)\n",
    "    names.pop(0)\n",
    "    \n",
    "    for i in range(0,len(names)):\n",
    "        cust_name.append(names[i].get_text())\n",
    "        \n",
    "    title = soup.find_all(\"a\",{\"data-hook\":\"review-title\"})\n",
    "    for i in range(0,len(title)):\n",
    "        review_title.append(title[i].get_text())\n",
    "\n",
    "    rating = soup.find_all('i',class_='review-rating')\n",
    "    rating.pop(0)\n",
    "    rating.pop(0)\n",
    "    for i in range(0,len(rating)):\n",
    "        rate.append(rating[i].get_text())\n",
    "\n",
    "    review = soup.find_all(\"span\",{\"data-hook\":\"review-body\"})\n",
    "    for i in range(0,len(review)):\n",
    "        review_content.append(review[i].get_text())\n",
    "        \n",
    "    try:\n",
    "        for div in soup.findAll('li', attrs={'class':'a-last'}):\n",
    "            A = div.find('a')['href']\n",
    "        ul = bt + A\n",
    "    except:\n",
    "        break"
   ]
  },
  {
   "cell_type": "code",
   "execution_count": 10,
   "metadata": {
    "ExecuteTime": {
     "end_time": "2021-01-03T14:00:25.999477Z",
     "start_time": "2021-01-03T14:00:25.991481Z"
    }
   },
   "outputs": [
    {
     "data": {
      "text/plain": [
       "1737"
      ]
     },
     "execution_count": 10,
     "metadata": {},
     "output_type": "execute_result"
    }
   ],
   "source": [
    "len(cust_name)"
   ]
  },
  {
   "cell_type": "code",
   "execution_count": 11,
   "metadata": {
    "ExecuteTime": {
     "end_time": "2021-01-03T14:00:27.003490Z",
     "start_time": "2021-01-03T14:00:26.995490Z"
    }
   },
   "outputs": [
    {
     "data": {
      "text/plain": [
       "1354"
      ]
     },
     "execution_count": 11,
     "metadata": {},
     "output_type": "execute_result"
    }
   ],
   "source": [
    "len(review_title)"
   ]
  },
  {
   "cell_type": "code",
   "execution_count": 12,
   "metadata": {
    "ExecuteTime": {
     "end_time": "2021-01-03T14:00:27.669754Z",
     "start_time": "2021-01-03T14:00:27.663754Z"
    }
   },
   "outputs": [
    {
     "data": {
      "text/plain": [
       "1354"
      ]
     },
     "execution_count": 12,
     "metadata": {},
     "output_type": "execute_result"
    }
   ],
   "source": [
    "len(review_content)"
   ]
  },
  {
   "cell_type": "code",
   "execution_count": 13,
   "metadata": {
    "ExecuteTime": {
     "end_time": "2021-01-03T14:00:28.282425Z",
     "start_time": "2021-01-03T14:00:28.275907Z"
    }
   },
   "outputs": [
    {
     "data": {
      "text/plain": [
       "1354"
      ]
     },
     "execution_count": 13,
     "metadata": {},
     "output_type": "execute_result"
    }
   ],
   "source": [
    "len(rate)"
   ]
  },
  {
   "cell_type": "code",
   "execution_count": 14,
   "metadata": {
    "ExecuteTime": {
     "end_time": "2021-01-03T14:00:29.439708Z",
     "start_time": "2021-01-03T14:00:29.431709Z"
    }
   },
   "outputs": [],
   "source": [
    "review_title[:] = [titles.lstrip('\\n') for titles in review_title]\n",
    "\n",
    "review_title[:] = [titles.rstrip('\\n') for titles in review_title]\n",
    "\n",
    "review_content[:] = [titles.lstrip('\\n') for titles in review_content]\n",
    "\n",
    "review_content[:] = [titles.rstrip('\\n') for titles in review_content]"
   ]
  },
  {
   "cell_type": "code",
   "execution_count": 15,
   "metadata": {
    "ExecuteTime": {
     "end_time": "2021-01-03T14:01:29.097698Z",
     "start_time": "2021-01-03T14:00:58.985561Z"
    }
   },
   "outputs": [
    {
     "name": "stdout",
     "output_type": "stream",
     "text": [
      "Requirement already satisfied: nltk in c:\\users\\dell\\anaconda3\\lib\\site-packages (3.6.5)\n",
      "Requirement already satisfied: click in c:\\users\\dell\\anaconda3\\lib\\site-packages (from nltk) (8.0.3)\n",
      "Requirement already satisfied: joblib in c:\\users\\dell\\anaconda3\\lib\\site-packages (from nltk) (1.1.0)\n",
      "Requirement already satisfied: regex>=2021.8.3 in c:\\users\\dell\\anaconda3\\lib\\site-packages (from nltk) (2021.8.3)\n",
      "Requirement already satisfied: tqdm in c:\\users\\dell\\anaconda3\\lib\\site-packages (from nltk) (4.62.3)\n",
      "Requirement already satisfied: colorama in c:\\users\\dell\\anaconda3\\lib\\site-packages (from click->nltk) (0.4.4)\n"
     ]
    },
    {
     "name": "stderr",
     "output_type": "stream",
     "text": [
      "[nltk_data] Downloading package stopwords to\n",
      "[nltk_data]     C:\\Users\\DELL\\AppData\\Roaming\\nltk_data...\n",
      "[nltk_data]   Package stopwords is already up-to-date!\n"
     ]
    },
    {
     "data": {
      "text/plain": [
       "True"
      ]
     },
     "execution_count": 15,
     "metadata": {},
     "output_type": "execute_result"
    }
   ],
   "source": [
    "import pandas as pd\n",
    "import numpy as np\n",
    "import matplotlib.pyplot as plt\n",
    "import seaborn as sns\n",
    "sns.set_style('white')\n",
    "import nltk\n",
    "from nltk.corpus import stopwords\n",
    "from nltk import ngrams\n",
    "from nltk.tokenize import word_tokenize\n",
    "from textblob import TextBlob, Word, Blobber\n",
    "import wordcloud\n",
    "from wordcloud import WordCloud\n",
    "from nltk.stem import WordNetLemmatizer\n",
    "lemmatizer=WordNetLemmatizer()\n",
    "!pip install nltk\n",
    "nltk.download('stopwords')"
   ]
  },
  {
   "cell_type": "code",
   "execution_count": 16,
   "metadata": {
    "ExecuteTime": {
     "end_time": "2021-01-03T14:01:48.167721Z",
     "start_time": "2021-01-03T14:01:48.159719Z"
    }
   },
   "outputs": [],
   "source": [
    "df = pd.DataFrame()"
   ]
  },
  {
   "cell_type": "code",
   "execution_count": 17,
   "metadata": {
    "ExecuteTime": {
     "end_time": "2021-01-03T14:01:48.953850Z",
     "start_time": "2021-01-03T14:01:48.939850Z"
    }
   },
   "outputs": [],
   "source": [
    "df['Customer Name'] = cust_name\n",
    "df['Review Title'] = pd.Series(review_title)\n",
    "df['Rating'] = pd.Series(rate)\n",
    "df['Reviews'] = pd.Series(review_content)"
   ]
  },
  {
   "cell_type": "code",
   "execution_count": 18,
   "metadata": {
    "ExecuteTime": {
     "end_time": "2021-01-03T14:01:49.889235Z",
     "start_time": "2021-01-03T14:01:49.871236Z"
    }
   },
   "outputs": [
    {
     "data": {
      "text/plain": [
       "521"
      ]
     },
     "execution_count": 18,
     "metadata": {},
     "output_type": "execute_result"
    }
   ],
   "source": [
    "df.Reviews.duplicated().sum()"
   ]
  },
  {
   "cell_type": "code",
   "execution_count": 19,
   "metadata": {
    "ExecuteTime": {
     "end_time": "2021-01-03T14:01:51.515234Z",
     "start_time": "2021-01-03T14:01:51.495233Z"
    }
   },
   "outputs": [],
   "source": [
    "#df.to_csv(r'C:\\Users\\DELL\\stats assignment\\ass 11\\fill.csv')\n"
   ]
  },
  {
   "cell_type": "code",
   "execution_count": 21,
   "metadata": {
    "ExecuteTime": {
     "end_time": "2021-01-03T14:01:52.493685Z",
     "start_time": "2021-01-03T14:01:52.479682Z"
    }
   },
   "outputs": [],
   "source": [
    "data = pd.read_csv(\"C:fill.csv\")"
   ]
  },
  {
   "cell_type": "code",
   "execution_count": 22,
   "metadata": {},
   "outputs": [],
   "source": [
    "df_1=df[['Reviews']]\n",
    "df_1=df_1.iloc[:1000,:]"
   ]
  },
  {
   "cell_type": "code",
   "execution_count": 23,
   "metadata": {},
   "outputs": [],
   "source": [
    "import re"
   ]
  },
  {
   "cell_type": "code",
   "execution_count": 24,
   "metadata": {},
   "outputs": [],
   "source": [
    "def punc(txt):\n",
    "    text=txt.lower()\n",
    "    text=re.sub('[^a-zA-Z]+',' ',text)\n",
    "    return text\n",
    "df_1['Reviews']=df_1['Reviews'].apply(punc)"
   ]
  },
  {
   "cell_type": "code",
   "execution_count": 25,
   "metadata": {},
   "outputs": [
    {
     "data": {
      "text/plain": [
       "Reviews    0\n",
       "dtype: int64"
      ]
     },
     "execution_count": 25,
     "metadata": {},
     "output_type": "execute_result"
    }
   ],
   "source": [
    "df_1.isnull().sum()"
   ]
  },
  {
   "cell_type": "code",
   "execution_count": 26,
   "metadata": {},
   "outputs": [],
   "source": [
    "data=df_1"
   ]
  },
  {
   "cell_type": "code",
   "execution_count": 27,
   "metadata": {},
   "outputs": [
    {
     "data": {
      "text/plain": [
       "Reviews    0\n",
       "dtype: int64"
      ]
     },
     "execution_count": 27,
     "metadata": {},
     "output_type": "execute_result"
    }
   ],
   "source": [
    "data.isnull().sum()"
   ]
  },
  {
   "cell_type": "code",
   "execution_count": 28,
   "metadata": {
    "ExecuteTime": {
     "end_time": "2021-01-03T14:01:57.291720Z",
     "start_time": "2021-01-03T14:01:57.279720Z"
    }
   },
   "outputs": [
    {
     "data": {
      "text/plain": [
       "Reviews    object\n",
       "dtype: object"
      ]
     },
     "execution_count": 28,
     "metadata": {},
     "output_type": "execute_result"
    }
   ],
   "source": [
    "data.dtypes"
   ]
  },
  {
   "cell_type": "code",
   "execution_count": null,
   "metadata": {},
   "outputs": [],
   "source": []
  },
  {
   "cell_type": "code",
   "execution_count": 29,
   "metadata": {
    "ExecuteTime": {
     "end_time": "2021-01-03T14:02:08.760673Z",
     "start_time": "2021-01-03T14:02:08.736672Z"
    }
   },
   "outputs": [
    {
     "data": {
      "text/html": [
       "<div>\n",
       "<style scoped>\n",
       "    .dataframe tbody tr th:only-of-type {\n",
       "        vertical-align: middle;\n",
       "    }\n",
       "\n",
       "    .dataframe tbody tr th {\n",
       "        vertical-align: top;\n",
       "    }\n",
       "\n",
       "    .dataframe thead th {\n",
       "        text-align: right;\n",
       "    }\n",
       "</style>\n",
       "<table border=\"1\" class=\"dataframe\">\n",
       "  <thead>\n",
       "    <tr style=\"text-align: right;\">\n",
       "      <th></th>\n",
       "      <th>Reviews</th>\n",
       "    </tr>\n",
       "  </thead>\n",
       "  <tbody>\n",
       "    <tr>\n",
       "      <th>count</th>\n",
       "      <td>1000</td>\n",
       "    </tr>\n",
       "    <tr>\n",
       "      <th>unique</th>\n",
       "      <td>957</td>\n",
       "    </tr>\n",
       "    <tr>\n",
       "      <th>top</th>\n",
       "      <td></td>\n",
       "    </tr>\n",
       "    <tr>\n",
       "      <th>freq</th>\n",
       "      <td>18</td>\n",
       "    </tr>\n",
       "  </tbody>\n",
       "</table>\n",
       "</div>"
      ],
      "text/plain": [
       "       Reviews\n",
       "count     1000\n",
       "unique     957\n",
       "top           \n",
       "freq        18"
      ]
     },
     "execution_count": 29,
     "metadata": {},
     "output_type": "execute_result"
    }
   ],
   "source": [
    "data.describe()"
   ]
  },
  {
   "cell_type": "code",
   "execution_count": 30,
   "metadata": {
    "ExecuteTime": {
     "end_time": "2021-01-03T14:02:09.445652Z",
     "start_time": "2021-01-03T14:02:09.435652Z"
    }
   },
   "outputs": [
    {
     "data": {
      "text/plain": [
       "Reviews    object\n",
       "dtype: object"
      ]
     },
     "execution_count": 30,
     "metadata": {},
     "output_type": "execute_result"
    }
   ],
   "source": [
    "data.dtypes"
   ]
  },
  {
   "cell_type": "code",
   "execution_count": 31,
   "metadata": {
    "ExecuteTime": {
     "end_time": "2021-01-03T14:06:31.116730Z",
     "start_time": "2021-01-03T14:06:31.110731Z"
    }
   },
   "outputs": [],
   "source": [
    "## removing all stopwords(english)....###\n",
    "from nltk.corpus import stopwords"
   ]
  },
  {
   "cell_type": "code",
   "execution_count": 32,
   "metadata": {
    "ExecuteTime": {
     "end_time": "2021-01-03T14:07:27.518915Z",
     "start_time": "2021-01-03T14:07:27.510949Z"
    }
   },
   "outputs": [],
   "source": [
    "stop_words=stopwords.words('english')"
   ]
  },
  {
   "cell_type": "code",
   "execution_count": 33,
   "metadata": {
    "ExecuteTime": {
     "end_time": "2021-01-03T14:07:28.164439Z",
     "start_time": "2021-01-03T14:07:28.158440Z"
    }
   },
   "outputs": [],
   "source": [
    "data['Reviews']=data['Reviews'].apply(lambda x: \" \".join(word for word in x.split() if word not in stop_words))\n"
   ]
  },
  {
   "cell_type": "code",
   "execution_count": 34,
   "metadata": {
    "ExecuteTime": {
     "end_time": "2021-01-03T14:08:03.419766Z",
     "start_time": "2021-01-03T14:08:03.403731Z"
    }
   },
   "outputs": [
    {
     "data": {
      "text/html": [
       "<div>\n",
       "<style scoped>\n",
       "    .dataframe tbody tr th:only-of-type {\n",
       "        vertical-align: middle;\n",
       "    }\n",
       "\n",
       "    .dataframe tbody tr th {\n",
       "        vertical-align: top;\n",
       "    }\n",
       "\n",
       "    .dataframe thead th {\n",
       "        text-align: right;\n",
       "    }\n",
       "</style>\n",
       "<table border=\"1\" class=\"dataframe\">\n",
       "  <thead>\n",
       "    <tr style=\"text-align: right;\">\n",
       "      <th></th>\n",
       "      <th>Reviews</th>\n",
       "    </tr>\n",
       "  </thead>\n",
       "  <tbody>\n",
       "    <tr>\n",
       "      <th>0</th>\n",
       "      <td>seen heats lot youtube neo amazed type cooling...</td>\n",
       "    </tr>\n",
       "    <tr>\n",
       "      <th>1</th>\n",
       "      <td>media could loaded</td>\n",
       "    </tr>\n",
       "    <tr>\n",
       "      <th>2</th>\n",
       "      <td>iqoo neo worst camera like normal midrange pho...</td>\n",
       "    </tr>\n",
       "    <tr>\n",
       "      <th>3</th>\n",
       "      <td>never felt kind gaming dominance phone sign he...</td>\n",
       "    </tr>\n",
       "    <tr>\n",
       "      <th>4</th>\n",
       "      <td>cons camera good night photo bad slow motion v...</td>\n",
       "    </tr>\n",
       "    <tr>\n",
       "      <th>...</th>\n",
       "      <td>...</td>\n",
       "    </tr>\n",
       "    <tr>\n",
       "      <th>995</th>\n",
       "      <td>value money go</td>\n",
       "    </tr>\n",
       "    <tr>\n",
       "      <th>996</th>\n",
       "      <td>decent camera quality price range</td>\n",
       "    </tr>\n",
       "    <tr>\n",
       "      <th>997</th>\n",
       "      <td>good</td>\n",
       "    </tr>\n",
       "    <tr>\n",
       "      <th>998</th>\n",
       "      <td>battery life good</td>\n",
       "    </tr>\n",
       "    <tr>\n",
       "      <th>999</th>\n",
       "      <td>dislike games automatic stop</td>\n",
       "    </tr>\n",
       "  </tbody>\n",
       "</table>\n",
       "<p>1000 rows × 1 columns</p>\n",
       "</div>"
      ],
      "text/plain": [
       "                                               Reviews\n",
       "0    seen heats lot youtube neo amazed type cooling...\n",
       "1                                   media could loaded\n",
       "2    iqoo neo worst camera like normal midrange pho...\n",
       "3    never felt kind gaming dominance phone sign he...\n",
       "4    cons camera good night photo bad slow motion v...\n",
       "..                                                 ...\n",
       "995                                     value money go\n",
       "996                  decent camera quality price range\n",
       "997                                               good\n",
       "998                                  battery life good\n",
       "999                       dislike games automatic stop\n",
       "\n",
       "[1000 rows x 1 columns]"
      ]
     },
     "execution_count": 34,
     "metadata": {},
     "output_type": "execute_result"
    }
   ],
   "source": [
    "data"
   ]
  },
  {
   "cell_type": "code",
   "execution_count": 35,
   "metadata": {
    "ExecuteTime": {
     "end_time": "2021-01-03T14:08:34.087568Z",
     "start_time": "2021-01-03T14:08:34.055567Z"
    }
   },
   "outputs": [],
   "source": [
    "from textblob import Word\n",
    "data['Reviews']= data['Reviews'].apply(lambda x: \" \".join([Word(word).lemmatize() for word in x.split()]))\n",
    "\n",
    "import re\n",
    "pattern = r\"((?<=^)|(?<= )).((?=$)|(?= ))\"\n",
    "data['Reviews']= data['Reviews'].apply(lambda x:(re.sub(pattern, '',x).strip()))"
   ]
  },
  {
   "cell_type": "code",
   "execution_count": 36,
   "metadata": {
    "ExecuteTime": {
     "end_time": "2021-01-03T14:17:04.487708Z",
     "start_time": "2021-01-03T14:17:04.475708Z"
    }
   },
   "outputs": [
    {
     "data": {
      "text/plain": [
       "0    seen heat lot youtube neo amazed type cooling ...\n",
       "1                                  medium could loaded\n",
       "2    iqoo neo worst camera like normal midrange pho...\n",
       "3    never felt kind gaming dominance phone sign he...\n",
       "4    con camera good night photo bad slow motion vi...\n",
       "Name: Reviews, dtype: object"
      ]
     },
     "execution_count": 36,
     "metadata": {},
     "output_type": "execute_result"
    }
   ],
   "source": [
    "data['Reviews'].head()"
   ]
  },
  {
   "cell_type": "code",
   "execution_count": 37,
   "metadata": {
    "ExecuteTime": {
     "end_time": "2021-01-03T14:17:21.405071Z",
     "start_time": "2021-01-03T14:17:21.379072Z"
    }
   },
   "outputs": [
    {
     "name": "stdout",
     "output_type": "stream",
     "text": [
      "     aa  aacha  aap  aapka  aata  abd  ability  able  abnormal  absolute  ...  \\\n",
      "0     0      0    0      0     0    0        0     0         0         0  ...   \n",
      "1     0      0    0      0     0    0        0     0         0         0  ...   \n",
      "2     0      0    0      0     0    0        0     0         0         0  ...   \n",
      "3     0      0    0      0     0    0        0     0         0         0  ...   \n",
      "4     0      0    0      0     0    0        0     0         0         0  ...   \n",
      "..   ..    ...  ...    ...   ...  ...      ...   ...       ...       ...  ...   \n",
      "995   0      0    0      0     0    0        0     0         0         0  ...   \n",
      "996   0      0    0      0     0    0        0     0         0         0  ...   \n",
      "997   0      0    0      0     0    0        0     0         0         0  ...   \n",
      "998   0      0    0      0     0    0        0     0         0         0  ...   \n",
      "999   0      0    0      0     0    0        0     0         0         0  ...   \n",
      "\n",
      "     yo  yono  youtube  yr  yt  zero  zing  zoom  zooming  zyada  \n",
      "0     0     0        1   0   0     0     0     0        0      0  \n",
      "1     0     0        0   0   0     0     0     0        0      0  \n",
      "2     0     0        0   0   0     0     0     0        0      0  \n",
      "3     0     0        0   0   0     0     0     0        0      0  \n",
      "4     0     0        0   0   0     0     0     0        0      0  \n",
      "..   ..   ...      ...  ..  ..   ...   ...   ...      ...    ...  \n",
      "995   0     0        0   0   0     0     0     0        0      0  \n",
      "996   0     0        0   0   0     0     0     0        0      0  \n",
      "997   0     0        0   0   0     0     0     0        0      0  \n",
      "998   0     0        0   0   0     0     0     0        0      0  \n",
      "999   0     0        0   0   0     0     0     0        0      0  \n",
      "\n",
      "[1000 rows x 2993 columns]\n"
     ]
    },
    {
     "name": "stderr",
     "output_type": "stream",
     "text": [
      "C:\\Users\\DELL\\anaconda3\\lib\\site-packages\\sklearn\\utils\\deprecation.py:87: FutureWarning: Function get_feature_names is deprecated; get_feature_names is deprecated in 1.0 and will be removed in 1.2. Please use get_feature_names_out instead.\n",
      "  warnings.warn(msg, category=FutureWarning)\n"
     ]
    }
   ],
   "source": [
    "from sklearn.feature_extraction.text import CountVectorizer\n",
    "\n",
    "\n",
    "vec = CountVectorizer()\n",
    "X = vec.fit_transform(data['Reviews'])\n",
    "df = pd.DataFrame(X.toarray(), columns=vec.get_feature_names())\n",
    "print(df)"
   ]
  },
  {
   "cell_type": "code",
   "execution_count": 38,
   "metadata": {
    "ExecuteTime": {
     "end_time": "2021-01-03T14:17:44.545491Z",
     "start_time": "2021-01-03T14:17:44.531489Z"
    }
   },
   "outputs": [
    {
     "name": "stdout",
     "output_type": "stream",
     "text": [
      "  (0, 1814)\t0.16173602680532465\n",
      "  (0, 2166)\t0.17935245306722689\n",
      "  (0, 2827)\t0.14916087743228826\n",
      "  (0, 801)\t0.21095182350115801\n",
      "  (0, 1547)\t0.2488387686216073\n",
      "  (0, 2737)\t0.1532227648279256\n",
      "  (0, 1830)\t0.11427462263622755\n",
      "  (0, 1062)\t0.16314382160431715\n",
      "  (0, 1628)\t0.19333539723925577\n",
      "  (0, 1833)\t0.16943139629083537\n",
      "  (0, 258)\t0.12672459516175305\n",
      "  (0, 1599)\t0.18428745503801047\n",
      "  (0, 2142)\t0.17935245306722689\n",
      "  (0, 944)\t0.10678889624997602\n",
      "  (0, 1842)\t0.1817317539021896\n",
      "  (0, 112)\t0.16038345408959007\n",
      "  (0, 867)\t0.16173602680532465\n",
      "  (0, 185)\t0.14070753933378194\n",
      "  (0, 1112)\t0.11680353838536152\n",
      "  (0, 2475)\t0.13923982065589674\n",
      "  (0, 734)\t0.10017575841009337\n",
      "  (0, 1267)\t0.3234720536106493\n",
      "  (0, 174)\t0.11994080783331987\n",
      "  (0, 2473)\t0.2488387686216073\n",
      "  (0, 580)\t0.19004851287712618\n",
      "  :\t:\n",
      "  (993, 148)\t0.7212639625787319\n",
      "  (993, 2157)\t0.5267529881776407\n",
      "  (993, 75)\t0.33964976273222847\n",
      "  (993, 225)\t0.22007389191171955\n",
      "  (993, 1120)\t0.19625265986967289\n",
      "  (994, 1571)\t0.6472248843529312\n",
      "  (994, 191)\t0.4781776103516944\n",
      "  (994, 2616)\t0.523092214214239\n",
      "  (994, 225)\t0.28075016912038125\n",
      "  (995, 2847)\t0.6148132978534057\n",
      "  (995, 1700)\t0.5874880626107005\n",
      "  (995, 1112)\t0.5261771422938715\n",
      "  (996, 2144)\t0.5080785847352776\n",
      "  (996, 645)\t0.5811158909550292\n",
      "  (996, 2120)\t0.3709883807233846\n",
      "  (996, 2050)\t0.4425153400507744\n",
      "  (996, 378)\t0.26591026343661217\n",
      "  (997, 1120)\t1.0\n",
      "  (998, 1501)\t0.756184819610823\n",
      "  (998, 225)\t0.48837693388094294\n",
      "  (998, 1120)\t0.43551405148766026\n",
      "  (999, 731)\t0.5187535938299596\n",
      "  (999, 162)\t0.5674388638908754\n",
      "  (999, 2575)\t0.5187535938299596\n",
      "  (999, 1066)\t0.37390179663012496\n"
     ]
    }
   ],
   "source": [
    "from sklearn.feature_extraction.text import TfidfVectorizer\n",
    "tfidf=TfidfVectorizer()\n",
    "TFIDF=tfidf.fit_transform(data['Reviews'])\n",
    "print(TFIDF)"
   ]
  },
  {
   "cell_type": "code",
   "execution_count": 39,
   "metadata": {
    "ExecuteTime": {
     "end_time": "2021-01-03T14:18:07.927138Z",
     "start_time": "2021-01-03T14:18:01.061131Z"
    }
   },
   "outputs": [
    {
     "data": {
      "text/plain": [
       "<matplotlib.image.AxesImage at 0x276ff455460>"
      ]
     },
     "execution_count": 39,
     "metadata": {},
     "output_type": "execute_result"
    },
    {
     "data": {
      "image/png": "[encoded data removed]",
      "text/plain": [
       "<Figure size 720x720 with 1 Axes>"
      ]
     },
     "metadata": {},
     "output_type": "display_data"
    }
   ],
   "source": [
    "\n",
    "Review_wordcloud = ' '.join(data['Reviews'])\n",
    "Q_wordcloud=WordCloud(\n",
    "                    background_color='black',\n",
    "                    width=2000,\n",
    "                    height=2000\n",
    "                   ).generate(Review_wordcloud)\n",
    "fig = plt.figure(figsize = (10, 10))\n",
    "plt.axis('on')\n",
    "plt.imshow(Q_wordcloud)"
   ]
  },
  {
   "cell_type": "markdown",
   "metadata": {},
   "source": [
    "# Removing Punctuation\n",
    "The next step is to remove punctuation, as it doesn’t add any extra information while treating text data. Therefore removing all instances of it will help us reduce the size of the training data."
   ]
  },
  {
   "cell_type": "code",
   "execution_count": 40,
   "metadata": {
    "ExecuteTime": {
     "end_time": "2021-01-03T14:35:09.661754Z",
     "start_time": "2021-01-03T14:35:09.645721Z"
    }
   },
   "outputs": [
    {
     "name": "stderr",
     "output_type": "stream",
     "text": [
      "C:\\Users\\DELL\\AppData\\Local\\Temp/ipykernel_27384/2640507917.py:1: FutureWarning: The default value of regex will change from True to False in a future version.\n",
      "  data['Reviews'] = data['Reviews'].str.replace('[^\\w\\s]','')\n"
     ]
    },
    {
     "data": {
      "text/plain": [
       "0    seen heat lot youtube neo amazed type cooling ...\n",
       "1                                  medium could loaded\n",
       "2    iqoo neo worst camera like normal midrange pho...\n",
       "3    never felt kind gaming dominance phone sign he...\n",
       "4    con camera good night photo bad slow motion vi...\n",
       "Name: Reviews, dtype: object"
      ]
     },
     "execution_count": 40,
     "metadata": {},
     "output_type": "execute_result"
    }
   ],
   "source": [
    "data['Reviews'] = data['Reviews'].str.replace('[^\\w\\s]','')\n",
    "data['Reviews'].head()"
   ]
  },
  {
   "cell_type": "markdown",
   "metadata": {},
   "source": [
    "#  Common word removal\n",
    "Previously, we just removed commonly occurring words in a general sense. We can also remove commonly occurring words from our text data First, let’s check the 10 most frequently occurring words in our text data then take call to remove or retain."
   ]
  },
  {
   "cell_type": "code",
   "execution_count": 41,
   "metadata": {
    "ExecuteTime": {
     "end_time": "2021-01-03T14:32:26.630262Z",
     "start_time": "2021-01-03T14:32:26.614262Z"
    }
   },
   "outputs": [
    {
     "data": {
      "text/plain": [
       "good           585\n",
       "phone          583\n",
       "camera         480\n",
       "battery        367\n",
       "quality        209\n",
       "performance    205\n",
       "best           204\n",
       "display        180\n",
       "mobile         173\n",
       "charging       173\n",
       "dtype: int64"
      ]
     },
     "execution_count": 41,
     "metadata": {},
     "output_type": "execute_result"
    }
   ],
   "source": [
    "freq = pd.Series(' '.join(data['Reviews']).split()).value_counts()[:10]\n",
    "freq"
   ]
  },
  {
   "cell_type": "markdown",
   "metadata": {},
   "source": [
    "# Now, let’s remove these words as their presence will not of any use in classification of our text data."
   ]
  },
  {
   "cell_type": "code",
   "execution_count": 42,
   "metadata": {
    "ExecuteTime": {
     "end_time": "2021-01-03T14:44:40.509457Z",
     "start_time": "2021-01-03T14:44:40.495457Z"
    }
   },
   "outputs": [
    {
     "data": {
      "text/plain": [
       "0    seen heat lot youtube neo amazed type cooling ...\n",
       "1                                  medium could loaded\n",
       "2    iqoo neo worst like normal midrange flagship u...\n",
       "3    never felt kind gaming dominance sign heating ...\n",
       "4    con night photo bad slow motion video output n...\n",
       "Name: Reviews, dtype: object"
      ]
     },
     "execution_count": 42,
     "metadata": {},
     "output_type": "execute_result"
    }
   ],
   "source": [
    "\n",
    "data['Reviews'] = data['Reviews'].apply(lambda x: \" \".join(x for x in x.split() if x not in freq))\n",
    "data['Reviews'].head()\n"
   ]
  },
  {
   "cell_type": "markdown",
   "metadata": {},
   "source": [
    "#  Rare words removal\n",
    "Similarly, just as we removed the most common words, this time let’s remove rarely occurring words from the text. Because they’re so rare, the association between them and other words is dominated by noise. You can replace rare words with a more general form and then this will have higher counts"
   ]
  },
  {
   "cell_type": "code",
   "execution_count": 43,
   "metadata": {
    "ExecuteTime": {
     "end_time": "2021-01-03T14:29:29.637693Z",
     "start_time": "2021-01-03T14:29:29.625694Z"
    }
   },
   "outputs": [
    {
     "data": {
      "text/plain": [
       "firmware        1\n",
       "limited         1\n",
       "attaching       1\n",
       "chargerand      1\n",
       "wats            1\n",
       "lightcould      1\n",
       "audiocamera     1\n",
       "displaygreat    1\n",
       "greatgood       1\n",
       "aswome          1\n",
       "dtype: int64"
      ]
     },
     "execution_count": 43,
     "metadata": {},
     "output_type": "execute_result"
    }
   ],
   "source": [
    "freq = pd.Series(' '.join(data['Reviews']).split()).value_counts()[-10:]\n",
    "freq\n"
   ]
  },
  {
   "cell_type": "code",
   "execution_count": 44,
   "metadata": {
    "ExecuteTime": {
     "end_time": "2021-01-03T14:45:56.788426Z",
     "start_time": "2021-01-03T14:45:53.039945Z"
    }
   },
   "outputs": [
    {
     "data": {
      "text/plain": [
       "0    seen heat lot couture neo amazed type cooling ...\n",
       "1                                  medium could loaded\n",
       "2    into neo worst like normal midrange flagship u...\n",
       "3    never felt kind gazing dominance sign heating ...\n",
       "4    con night photo bad slow motion video output n...\n",
       "5                                                     \n",
       "6    cannot continue call minute call drop issue re...\n",
       "7    although gazing tormented expected sound least...\n",
       "8    used day mentioning important point used day d...\n",
       "9    total disappointment astute score shown promot...\n",
       "Name: Reviews, dtype: object"
      ]
     },
     "execution_count": 44,
     "metadata": {},
     "output_type": "execute_result"
    }
   ],
   "source": [
    "from textblob import TextBlob\n",
    "data['Reviews'][:10].apply(lambda x: str(TextBlob(x).correct()))"
   ]
  },
  {
   "cell_type": "markdown",
   "metadata": {},
   "source": [
    "# 2.7 Tokenization\n",
    "Tokenization refers to dividing the text into a sequence of words or sentences. In our example, we have used the textblob library to first transform our reviews into a blob and then converted them into a series of words."
   ]
  },
  {
   "cell_type": "code",
   "execution_count": 45,
   "metadata": {
    "ExecuteTime": {
     "end_time": "2021-01-03T14:47:57.599433Z",
     "start_time": "2021-01-03T14:47:57.589436Z"
    }
   },
   "outputs": [
    {
     "data": {
      "text/plain": [
       "WordList(['seen', 'heat', 'lot', 'youtube', 'neo', 'amazed', 'type', 'cooling', 'smatphone', 'awesome', 'hz', 'smooth', 'go', 'back', 'hz', 'every', 'app', 'open', 'fast', 'ram', 'management', 'better', 'oneplus', 'mean', 'funtouch', 'one', 'touch', 'lockscreen', 'earlier', 'used', 'realme', 'ok'])"
      ]
     },
     "execution_count": 45,
     "metadata": {},
     "output_type": "execute_result"
    }
   ],
   "source": [
    "TextBlob(data['Reviews'][0]).words"
   ]
  },
  {
   "cell_type": "code",
   "execution_count": 46,
   "metadata": {
    "ExecuteTime": {
     "end_time": "2021-01-03T14:49:12.601470Z",
     "start_time": "2021-01-03T14:49:12.591475Z"
    }
   },
   "outputs": [
    {
     "data": {
      "text/plain": [
       "WordList(['medium', 'could', 'loaded'])"
      ]
     },
     "execution_count": 46,
     "metadata": {},
     "output_type": "execute_result"
    }
   ],
   "source": [
    "TextBlob(data['Reviews'][1]).words"
   ]
  },
  {
   "cell_type": "markdown",
   "metadata": {},
   "source": [
    "# Stemming refers to the removal of suffices, like “ing”, “ly”, “s”, etc. by a simple rule-based approach. For this purpose, we will use PorterStemmer from the NLTK library."
   ]
  },
  {
   "cell_type": "code",
   "execution_count": 47,
   "metadata": {
    "ExecuteTime": {
     "end_time": "2021-01-03T14:50:58.298154Z",
     "start_time": "2021-01-03T14:50:58.278154Z"
    }
   },
   "outputs": [
    {
     "data": {
      "text/plain": [
       "0    seen heat lot youtub neo amaz type cool smatph...\n",
       "1                                    medium could load\n",
       "2    iqoo neo worst like normal midrang flagship us...\n",
       "3    never felt kind game domin sign heat lag bgmi ...\n",
       "4    con night photo bad slow motion video output n...\n",
       "5                                                     \n",
       "6    cannot continu call minut call drop issu reque...\n",
       "7    although game orient expect sound least initi ...\n",
       "8    use day mention import point use day dust insi...\n",
       "9    total disappoint antutu score shown promot ima...\n",
       "Name: Reviews, dtype: object"
      ]
     },
     "execution_count": 47,
     "metadata": {},
     "output_type": "execute_result"
    }
   ],
   "source": [
    "from nltk.stem import PorterStemmer\n",
    "st = PorterStemmer()\n",
    "data['Reviews'][:10].apply(lambda x: \" \".join([st.stem(word) for word in x.split()]))"
   ]
  },
  {
   "cell_type": "markdown",
   "metadata": {},
   "source": [
    "# Lemmatization\n",
    "Lemmatization is a more effective option than stemming because it converts the word into its root word, rather than just stripping the suffices. It makes use of the vocabulary and does a morphological analysis to obtain the root word. Therefore, we usually prefer using lemmatization over stemming."
   ]
  },
  {
   "cell_type": "code",
   "execution_count": 48,
   "metadata": {
    "ExecuteTime": {
     "end_time": "2021-01-03T14:53:23.766838Z",
     "start_time": "2021-01-03T14:53:23.744837Z"
    }
   },
   "outputs": [
    {
     "data": {
      "text/plain": [
       "0    seen heat lot youtube neo amazed type cooling ...\n",
       "1                                  medium could loaded\n",
       "2    iqoo neo worst like normal midrange flagship u...\n",
       "3    never felt kind gaming dominance sign heating ...\n",
       "4    con night photo bad slow motion video output n...\n",
       "Name: Reviews, dtype: object"
      ]
     },
     "execution_count": 48,
     "metadata": {},
     "output_type": "execute_result"
    }
   ],
   "source": [
    "from textblob import Word\n",
    "data['Reviews'] = data['Reviews'].apply(lambda x: \" \".join([Word(word).lemmatize() for word in x.split()]))\n",
    "data['Reviews'].head()\n"
   ]
  },
  {
   "cell_type": "markdown",
   "metadata": {},
   "source": [
    "# Advance Text Processing\n",
    "Up to this point, we have done all the basic pre-processing steps in order to clean our data. Now, we can finally move on to extracting features using NLP techniques.\n",
    "\n",
    " \n",
    "# N-grams\n",
    "N-grams are the combination of multiple words used together. Ngrams with N=1 are called unigrams. Similarly, bigrams (N=2), trigrams (N=3) and so on can also be used.\n",
    "\n",
    "Unigrams do not usually contain as much information as compared to bigrams and trigrams. The basic principle behind n-grams is that they capture the language structure, like what letter or word is likely to follow the given one. The longer the n-gram (the higher the n), the more context you have to work with. Optimum length really depends on the application – if your n-grams are too short, you may fail to capture important differences. On the other hand, if they are too long, you may fail to capture the “general knowledge” and only stick to particular cases."
   ]
  },
  {
   "cell_type": "code",
   "execution_count": 49,
   "metadata": {
    "ExecuteTime": {
     "end_time": "2021-01-03T14:55:41.609697Z",
     "start_time": "2021-01-03T14:55:41.599697Z"
    }
   },
   "outputs": [
    {
     "data": {
      "text/plain": [
       "[WordList(['seen', 'heat']),\n",
       " WordList(['heat', 'lot']),\n",
       " WordList(['lot', 'youtube']),\n",
       " WordList(['youtube', 'neo']),\n",
       " WordList(['neo', 'amazed']),\n",
       " WordList(['amazed', 'type']),\n",
       " WordList(['type', 'cooling']),\n",
       " WordList(['cooling', 'smatphone']),\n",
       " WordList(['smatphone', 'awesome']),\n",
       " WordList(['awesome', 'hz']),\n",
       " WordList(['hz', 'smooth']),\n",
       " WordList(['smooth', 'go']),\n",
       " WordList(['go', 'back']),\n",
       " WordList(['back', 'hz']),\n",
       " WordList(['hz', 'every']),\n",
       " WordList(['every', 'app']),\n",
       " WordList(['app', 'open']),\n",
       " WordList(['open', 'fast']),\n",
       " WordList(['fast', 'ram']),\n",
       " WordList(['ram', 'management']),\n",
       " WordList(['management', 'better']),\n",
       " WordList(['better', 'oneplus']),\n",
       " WordList(['oneplus', 'mean']),\n",
       " WordList(['mean', 'funtouch']),\n",
       " WordList(['funtouch', 'one']),\n",
       " WordList(['one', 'touch']),\n",
       " WordList(['touch', 'lockscreen']),\n",
       " WordList(['lockscreen', 'earlier']),\n",
       " WordList(['earlier', 'used']),\n",
       " WordList(['used', 'realme']),\n",
       " WordList(['realme', 'ok'])]"
      ]
     },
     "execution_count": 49,
     "metadata": {},
     "output_type": "execute_result"
    }
   ],
   "source": [
    "TextBlob(data['Reviews'][0]).ngrams(2)"
   ]
  },
  {
   "cell_type": "markdown",
   "metadata": {},
   "source": [
    "# Term frequency\n",
    "Term frequency is simply the ratio of the count of a word present in a sentence, to the length of the sentence.\n",
    "\n",
    "Therefore, we can generalize term frequency as:\n",
    "\n",
    "TF = (Number of times term T appears in the particular row) / (number of terms in that row)"
   ]
  },
  {
   "cell_type": "code",
   "execution_count": 50,
   "metadata": {
    "ExecuteTime": {
     "end_time": "2021-01-03T14:58:37.925707Z",
     "start_time": "2021-01-03T14:58:37.747706Z"
    }
   },
   "outputs": [
    {
     "data": {
      "text/html": [
       "<div>\n",
       "<style scoped>\n",
       "    .dataframe tbody tr th:only-of-type {\n",
       "        vertical-align: middle;\n",
       "    }\n",
       "\n",
       "    .dataframe tbody tr th {\n",
       "        vertical-align: top;\n",
       "    }\n",
       "\n",
       "    .dataframe thead th {\n",
       "        text-align: right;\n",
       "    }\n",
       "</style>\n",
       "<table border=\"1\" class=\"dataframe\">\n",
       "  <thead>\n",
       "    <tr style=\"text-align: right;\">\n",
       "      <th></th>\n",
       "      <th>words</th>\n",
       "      <th>tf</th>\n",
       "    </tr>\n",
       "  </thead>\n",
       "  <tbody>\n",
       "    <tr>\n",
       "      <th>0</th>\n",
       "      <td>medium</td>\n",
       "      <td>1.0</td>\n",
       "    </tr>\n",
       "    <tr>\n",
       "      <th>1</th>\n",
       "      <td>could</td>\n",
       "      <td>2.0</td>\n",
       "    </tr>\n",
       "    <tr>\n",
       "      <th>2</th>\n",
       "      <td>loaded</td>\n",
       "      <td>1.0</td>\n",
       "    </tr>\n",
       "    <tr>\n",
       "      <th>3</th>\n",
       "      <td>shared</td>\n",
       "      <td>2.0</td>\n",
       "    </tr>\n",
       "    <tr>\n",
       "      <th>4</th>\n",
       "      <td>data</td>\n",
       "      <td>2.0</td>\n",
       "    </tr>\n",
       "    <tr>\n",
       "      <th>...</th>\n",
       "      <td>...</td>\n",
       "      <td>...</td>\n",
       "    </tr>\n",
       "    <tr>\n",
       "      <th>224</th>\n",
       "      <td>product</td>\n",
       "      <td>1.0</td>\n",
       "    </tr>\n",
       "    <tr>\n",
       "      <th>225</th>\n",
       "      <td>page</td>\n",
       "      <td>1.0</td>\n",
       "    </tr>\n",
       "    <tr>\n",
       "      <th>226</th>\n",
       "      <td>bought</td>\n",
       "      <td>1.0</td>\n",
       "    </tr>\n",
       "    <tr>\n",
       "      <th>227</th>\n",
       "      <td>offer</td>\n",
       "      <td>1.0</td>\n",
       "    </tr>\n",
       "    <tr>\n",
       "      <th>228</th>\n",
       "      <td>received</td>\n",
       "      <td>1.0</td>\n",
       "    </tr>\n",
       "  </tbody>\n",
       "</table>\n",
       "<p>229 rows × 2 columns</p>\n",
       "</div>"
      ],
      "text/plain": [
       "        words   tf\n",
       "0      medium  1.0\n",
       "1       could  2.0\n",
       "2      loaded  1.0\n",
       "3      shared  2.0\n",
       "4        data  2.0\n",
       "..        ...  ...\n",
       "224   product  1.0\n",
       "225      page  1.0\n",
       "226    bought  1.0\n",
       "227     offer  1.0\n",
       "228  received  1.0\n",
       "\n",
       "[229 rows x 2 columns]"
      ]
     },
     "execution_count": 50,
     "metadata": {},
     "output_type": "execute_result"
    }
   ],
   "source": [
    "tf1 = (data['Reviews'][1:10]).apply(lambda x: pd.value_counts(x.split(\" \"))).sum(axis = 0).reset_index()\n",
    "tf1.columns = ['words','tf']\n",
    "tf1"
   ]
  },
  {
   "cell_type": "markdown",
   "metadata": {},
   "source": [
    "# Inverse Document Frequency\n",
    "The intuition behind inverse document frequency (IDF) is that a word is not of much use to us if it’s appearing in all the documents.\n",
    "\n",
    "Therefore, the IDF of each word is the log of the ratio of the total number of rows to the number of rows in which that word is present.\n",
    "\n",
    "IDF = log(N/n), where, N is the total number of rows and n is the number of rows in which the word was present."
   ]
  },
  {
   "cell_type": "code",
   "execution_count": 51,
   "metadata": {
    "ExecuteTime": {
     "end_time": "2021-01-03T15:01:12.162055Z",
     "start_time": "2021-01-03T15:01:12.076054Z"
    }
   },
   "outputs": [],
   "source": [
    "for i,word in enumerate(tf1['words']):\n",
    "    tf1.loc[i, 'idf'] = np.log(data.shape[0]/(len(data[data['Reviews'].str.contains(word)])))"
   ]
  },
  {
   "cell_type": "code",
   "execution_count": 52,
   "metadata": {
    "ExecuteTime": {
     "end_time": "2021-01-03T15:01:24.868460Z",
     "start_time": "2021-01-03T15:01:24.850461Z"
    }
   },
   "outputs": [
    {
     "data": {
      "text/html": [
       "<div>\n",
       "<style scoped>\n",
       "    .dataframe tbody tr th:only-of-type {\n",
       "        vertical-align: middle;\n",
       "    }\n",
       "\n",
       "    .dataframe tbody tr th {\n",
       "        vertical-align: top;\n",
       "    }\n",
       "\n",
       "    .dataframe thead th {\n",
       "        text-align: right;\n",
       "    }\n",
       "</style>\n",
       "<table border=\"1\" class=\"dataframe\">\n",
       "  <thead>\n",
       "    <tr style=\"text-align: right;\">\n",
       "      <th></th>\n",
       "      <th>words</th>\n",
       "      <th>tf</th>\n",
       "      <th>idf</th>\n",
       "    </tr>\n",
       "  </thead>\n",
       "  <tbody>\n",
       "    <tr>\n",
       "      <th>0</th>\n",
       "      <td>medium</td>\n",
       "      <td>1.0</td>\n",
       "      <td>2.577022</td>\n",
       "    </tr>\n",
       "    <tr>\n",
       "      <th>1</th>\n",
       "      <td>could</td>\n",
       "      <td>2.0</td>\n",
       "      <td>2.353878</td>\n",
       "    </tr>\n",
       "    <tr>\n",
       "      <th>2</th>\n",
       "      <td>loaded</td>\n",
       "      <td>1.0</td>\n",
       "      <td>2.688248</td>\n",
       "    </tr>\n",
       "    <tr>\n",
       "      <th>3</th>\n",
       "      <td>shared</td>\n",
       "      <td>2.0</td>\n",
       "      <td>6.214608</td>\n",
       "    </tr>\n",
       "    <tr>\n",
       "      <th>4</th>\n",
       "      <td>data</td>\n",
       "      <td>2.0</td>\n",
       "      <td>4.199705</td>\n",
       "    </tr>\n",
       "    <tr>\n",
       "      <th>...</th>\n",
       "      <td>...</td>\n",
       "      <td>...</td>\n",
       "      <td>...</td>\n",
       "    </tr>\n",
       "    <tr>\n",
       "      <th>224</th>\n",
       "      <td>product</td>\n",
       "      <td>1.0</td>\n",
       "      <td>2.718101</td>\n",
       "    </tr>\n",
       "    <tr>\n",
       "      <th>225</th>\n",
       "      <td>page</td>\n",
       "      <td>1.0</td>\n",
       "      <td>5.809143</td>\n",
       "    </tr>\n",
       "    <tr>\n",
       "      <th>226</th>\n",
       "      <td>bought</td>\n",
       "      <td>1.0</td>\n",
       "      <td>3.912023</td>\n",
       "    </tr>\n",
       "    <tr>\n",
       "      <th>227</th>\n",
       "      <td>offer</td>\n",
       "      <td>1.0</td>\n",
       "      <td>3.218876</td>\n",
       "    </tr>\n",
       "    <tr>\n",
       "      <th>228</th>\n",
       "      <td>received</td>\n",
       "      <td>1.0</td>\n",
       "      <td>4.605170</td>\n",
       "    </tr>\n",
       "  </tbody>\n",
       "</table>\n",
       "<p>229 rows × 3 columns</p>\n",
       "</div>"
      ],
      "text/plain": [
       "        words   tf       idf\n",
       "0      medium  1.0  2.577022\n",
       "1       could  2.0  2.353878\n",
       "2      loaded  1.0  2.688248\n",
       "3      shared  2.0  6.214608\n",
       "4        data  2.0  4.199705\n",
       "..        ...  ...       ...\n",
       "224   product  1.0  2.718101\n",
       "225      page  1.0  5.809143\n",
       "226    bought  1.0  3.912023\n",
       "227     offer  1.0  3.218876\n",
       "228  received  1.0  4.605170\n",
       "\n",
       "[229 rows x 3 columns]"
      ]
     },
     "execution_count": 52,
     "metadata": {},
     "output_type": "execute_result"
    }
   ],
   "source": [
    "tf1"
   ]
  },
  {
   "cell_type": "markdown",
   "metadata": {},
   "source": [
    "The more the value of IDF, the more unique is the word."
   ]
  },
  {
   "cell_type": "markdown",
   "metadata": {},
   "source": [
    "# Term Frequency – Inverse Document Frequency (TF-IDF)\n",
    "TF-IDF is the multiplication of the TF and IDF which we calculated above."
   ]
  },
  {
   "cell_type": "code",
   "execution_count": 53,
   "metadata": {
    "ExecuteTime": {
     "end_time": "2021-01-03T15:03:02.089705Z",
     "start_time": "2021-01-03T15:03:02.065708Z"
    }
   },
   "outputs": [
    {
     "data": {
      "text/html": [
       "<div>\n",
       "<style scoped>\n",
       "    .dataframe tbody tr th:only-of-type {\n",
       "        vertical-align: middle;\n",
       "    }\n",
       "\n",
       "    .dataframe tbody tr th {\n",
       "        vertical-align: top;\n",
       "    }\n",
       "\n",
       "    .dataframe thead th {\n",
       "        text-align: right;\n",
       "    }\n",
       "</style>\n",
       "<table border=\"1\" class=\"dataframe\">\n",
       "  <thead>\n",
       "    <tr style=\"text-align: right;\">\n",
       "      <th></th>\n",
       "      <th>words</th>\n",
       "      <th>tf</th>\n",
       "      <th>idf</th>\n",
       "      <th>tfidf</th>\n",
       "    </tr>\n",
       "  </thead>\n",
       "  <tbody>\n",
       "    <tr>\n",
       "      <th>0</th>\n",
       "      <td>medium</td>\n",
       "      <td>1.0</td>\n",
       "      <td>2.577022</td>\n",
       "      <td>2.577022</td>\n",
       "    </tr>\n",
       "    <tr>\n",
       "      <th>1</th>\n",
       "      <td>could</td>\n",
       "      <td>2.0</td>\n",
       "      <td>2.353878</td>\n",
       "      <td>4.707757</td>\n",
       "    </tr>\n",
       "    <tr>\n",
       "      <th>2</th>\n",
       "      <td>loaded</td>\n",
       "      <td>1.0</td>\n",
       "      <td>2.688248</td>\n",
       "      <td>2.688248</td>\n",
       "    </tr>\n",
       "    <tr>\n",
       "      <th>3</th>\n",
       "      <td>shared</td>\n",
       "      <td>2.0</td>\n",
       "      <td>6.214608</td>\n",
       "      <td>12.429216</td>\n",
       "    </tr>\n",
       "    <tr>\n",
       "      <th>4</th>\n",
       "      <td>data</td>\n",
       "      <td>2.0</td>\n",
       "      <td>4.199705</td>\n",
       "      <td>8.399410</td>\n",
       "    </tr>\n",
       "    <tr>\n",
       "      <th>...</th>\n",
       "      <td>...</td>\n",
       "      <td>...</td>\n",
       "      <td>...</td>\n",
       "      <td>...</td>\n",
       "    </tr>\n",
       "    <tr>\n",
       "      <th>224</th>\n",
       "      <td>product</td>\n",
       "      <td>1.0</td>\n",
       "      <td>2.718101</td>\n",
       "      <td>2.718101</td>\n",
       "    </tr>\n",
       "    <tr>\n",
       "      <th>225</th>\n",
       "      <td>page</td>\n",
       "      <td>1.0</td>\n",
       "      <td>5.809143</td>\n",
       "      <td>5.809143</td>\n",
       "    </tr>\n",
       "    <tr>\n",
       "      <th>226</th>\n",
       "      <td>bought</td>\n",
       "      <td>1.0</td>\n",
       "      <td>3.912023</td>\n",
       "      <td>3.912023</td>\n",
       "    </tr>\n",
       "    <tr>\n",
       "      <th>227</th>\n",
       "      <td>offer</td>\n",
       "      <td>1.0</td>\n",
       "      <td>3.218876</td>\n",
       "      <td>3.218876</td>\n",
       "    </tr>\n",
       "    <tr>\n",
       "      <th>228</th>\n",
       "      <td>received</td>\n",
       "      <td>1.0</td>\n",
       "      <td>4.605170</td>\n",
       "      <td>4.605170</td>\n",
       "    </tr>\n",
       "  </tbody>\n",
       "</table>\n",
       "<p>229 rows × 4 columns</p>\n",
       "</div>"
      ],
      "text/plain": [
       "        words   tf       idf      tfidf\n",
       "0      medium  1.0  2.577022   2.577022\n",
       "1       could  2.0  2.353878   4.707757\n",
       "2      loaded  1.0  2.688248   2.688248\n",
       "3      shared  2.0  6.214608  12.429216\n",
       "4        data  2.0  4.199705   8.399410\n",
       "..        ...  ...       ...        ...\n",
       "224   product  1.0  2.718101   2.718101\n",
       "225      page  1.0  5.809143   5.809143\n",
       "226    bought  1.0  3.912023   3.912023\n",
       "227     offer  1.0  3.218876   3.218876\n",
       "228  received  1.0  4.605170   4.605170\n",
       "\n",
       "[229 rows x 4 columns]"
      ]
     },
     "execution_count": 53,
     "metadata": {},
     "output_type": "execute_result"
    }
   ],
   "source": [
    "tf1['tfidf'] = tf1['tf'] * tf1['idf']\n",
    "tf1"
   ]
  },
  {
   "cell_type": "code",
   "execution_count": 54,
   "metadata": {
    "ExecuteTime": {
     "end_time": "2021-01-03T15:05:16.325461Z",
     "start_time": "2021-01-03T15:05:16.305461Z"
    }
   },
   "outputs": [
    {
     "data": {
      "text/plain": [
       "<1000x1000 sparse matrix of type '<class 'numpy.float64'>'\n",
       "\twith 10048 stored elements in Compressed Sparse Row format>"
      ]
     },
     "execution_count": 54,
     "metadata": {},
     "output_type": "execute_result"
    }
   ],
   "source": [
    "from sklearn.feature_extraction.text import TfidfVectorizer\n",
    "tfidf = TfidfVectorizer(max_features=1000, lowercase=True, analyzer='word',\n",
    " stop_words= 'english',ngram_range=(1,1))\n",
    "data_vect = tfidf.fit_transform(data['Reviews'])\n",
    "\n",
    "data_vect"
   ]
  },
  {
   "cell_type": "markdown",
   "metadata": {},
   "source": [
    "# Bag of Words\n",
    "Bag of Words (BoW) refers to the representation of text which describes the presence of words within the text data. The intuition behind this is that two similar text fields will contain similar kind of words, and will therefore have a similar bag of words. Further, that from the text alone we can learn something about the meaning of the document.\n",
    "\n",
    "For implementation, sklearn provides a separate function for it as shown below"
   ]
  },
  {
   "cell_type": "code",
   "execution_count": 55,
   "metadata": {
    "ExecuteTime": {
     "end_time": "2021-01-03T15:07:33.748071Z",
     "start_time": "2021-01-03T15:07:33.736073Z"
    }
   },
   "outputs": [
    {
     "data": {
      "text/plain": [
       "<1000x1000 sparse matrix of type '<class 'numpy.int64'>'\n",
       "\twith 11524 stored elements in Compressed Sparse Row format>"
      ]
     },
     "execution_count": 55,
     "metadata": {},
     "output_type": "execute_result"
    }
   ],
   "source": [
    "from sklearn.feature_extraction.text import CountVectorizer\n",
    "bow = CountVectorizer(max_features=1000, lowercase=True, ngram_range=(1,1),analyzer = \"word\")\n",
    "data_bow = bow.fit_transform(data['Reviews'])\n",
    "data_bow"
   ]
  },
  {
   "cell_type": "markdown",
   "metadata": {},
   "source": [
    "# Sentiment Analysis\n",
    "If you recall, our problem was to detect the sentiment of the tweet. So, before applying any ML/DL models (which can have a separate feature detecting the sentiment using the textblob library), let’s check the sentiment of the first few tweets."
   ]
  },
  {
   "cell_type": "code",
   "execution_count": 56,
   "metadata": {
    "ExecuteTime": {
     "end_time": "2021-01-03T15:08:40.853201Z",
     "start_time": "2021-01-03T15:08:40.833199Z"
    }
   },
   "outputs": [
    {
     "data": {
      "text/plain": [
       "0      (0.25416666666666665, 0.5319444444444444)\n",
       "1                                     (0.0, 0.0)\n",
       "2    (0.020370370370370372, 0.48148148148148145)\n",
       "3      (0.02849999999999999, 0.5248333333333334)\n",
       "4     (-0.18749999999999997, 0.4666666666666667)\n",
       "5                                     (0.0, 0.0)\n",
       "6                                     (0.0, 0.1)\n",
       "7     (0.06547619047619048, 0.42142857142857143)\n",
       "8      (0.20111111111111116, 0.6081481481481481)\n",
       "9                                  (-0.3, 0.575)\n",
       "Name: Reviews, dtype: object"
      ]
     },
     "execution_count": 56,
     "metadata": {},
     "output_type": "execute_result"
    }
   ],
   "source": [
    "data['Reviews'][:10].apply(lambda x: TextBlob(x).sentiment)"
   ]
  },
  {
   "cell_type": "markdown",
   "metadata": {},
   "source": [
    "# Here, we only extract polarity as it indicates the sentiment as value nearer to 1 means a positive sentiment and values nearer to -1 means a negative sentiment. This can also work as a feature for building a machine learning model."
   ]
  },
  {
   "cell_type": "code",
   "execution_count": 57,
   "metadata": {
    "ExecuteTime": {
     "end_time": "2021-01-03T15:13:02.557390Z",
     "start_time": "2021-01-03T15:13:02.533389Z"
    }
   },
   "outputs": [
    {
     "data": {
      "text/html": [
       "<div>\n",
       "<style scoped>\n",
       "    .dataframe tbody tr th:only-of-type {\n",
       "        vertical-align: middle;\n",
       "    }\n",
       "\n",
       "    .dataframe tbody tr th {\n",
       "        vertical-align: top;\n",
       "    }\n",
       "\n",
       "    .dataframe thead th {\n",
       "        text-align: right;\n",
       "    }\n",
       "</style>\n",
       "<table border=\"1\" class=\"dataframe\">\n",
       "  <thead>\n",
       "    <tr style=\"text-align: right;\">\n",
       "      <th></th>\n",
       "      <th>Reviews</th>\n",
       "      <th>sentiment</th>\n",
       "    </tr>\n",
       "  </thead>\n",
       "  <tbody>\n",
       "    <tr>\n",
       "      <th>0</th>\n",
       "      <td>seen heat lot youtube neo amazed type cooling ...</td>\n",
       "      <td>0.254167</td>\n",
       "    </tr>\n",
       "    <tr>\n",
       "      <th>1</th>\n",
       "      <td>medium could loaded</td>\n",
       "      <td>0.000000</td>\n",
       "    </tr>\n",
       "    <tr>\n",
       "      <th>2</th>\n",
       "      <td>iqoo neo worst like normal midrange flagship u...</td>\n",
       "      <td>0.020370</td>\n",
       "    </tr>\n",
       "    <tr>\n",
       "      <th>3</th>\n",
       "      <td>never felt kind gaming dominance sign heating ...</td>\n",
       "      <td>0.028500</td>\n",
       "    </tr>\n",
       "    <tr>\n",
       "      <th>4</th>\n",
       "      <td>con night photo bad slow motion video output n...</td>\n",
       "      <td>-0.187500</td>\n",
       "    </tr>\n",
       "  </tbody>\n",
       "</table>\n",
       "</div>"
      ],
      "text/plain": [
       "                                             Reviews  sentiment\n",
       "0  seen heat lot youtube neo amazed type cooling ...   0.254167\n",
       "1                                medium could loaded   0.000000\n",
       "2  iqoo neo worst like normal midrange flagship u...   0.020370\n",
       "3  never felt kind gaming dominance sign heating ...   0.028500\n",
       "4  con night photo bad slow motion video output n...  -0.187500"
      ]
     },
     "execution_count": 57,
     "metadata": {},
     "output_type": "execute_result"
    }
   ],
   "source": [
    "data['sentiment'] = data['Reviews'].apply(lambda x: TextBlob(x).sentiment[0] )\n",
    "data[['Reviews','sentiment']].head()"
   ]
  },
  {
   "cell_type": "code",
   "execution_count": 58,
   "metadata": {
    "ExecuteTime": {
     "end_time": "2021-01-03T14:19:41.425231Z",
     "start_time": "2021-01-03T14:19:41.365232Z"
    }
   },
   "outputs": [
    {
     "name": "stderr",
     "output_type": "stream",
     "text": [
      "[nltk_data] Downloading package punkt to\n",
      "[nltk_data]     C:\\Users\\DELL\\AppData\\Roaming\\nltk_data...\n",
      "[nltk_data]   Package punkt is already up-to-date!\n"
     ]
    },
    {
     "data": {
      "text/plain": [
       "True"
      ]
     },
     "execution_count": 58,
     "metadata": {},
     "output_type": "execute_result"
    }
   ],
   "source": [
    "\n",
    "import collections\n",
    "from collections import Counter\n",
    "import nltk\n",
    "nltk.download('punkt')"
   ]
  },
  {
   "cell_type": "code",
   "execution_count": 59,
   "metadata": {
    "ExecuteTime": {
     "end_time": "2021-01-03T14:20:03.615187Z",
     "start_time": "2021-01-03T14:20:03.145708Z"
    }
   },
   "outputs": [
    {
     "data": {
      "text/html": [
       "<div>\n",
       "<style scoped>\n",
       "    .dataframe tbody tr th:only-of-type {\n",
       "        vertical-align: middle;\n",
       "    }\n",
       "\n",
       "    .dataframe tbody tr th {\n",
       "        vertical-align: top;\n",
       "    }\n",
       "\n",
       "    .dataframe thead th {\n",
       "        text-align: right;\n",
       "    }\n",
       "</style>\n",
       "<table border=\"1\" class=\"dataframe\">\n",
       "  <thead>\n",
       "    <tr style=\"text-align: right;\">\n",
       "      <th></th>\n",
       "      <th>Reviews</th>\n",
       "      <th>polarity</th>\n",
       "    </tr>\n",
       "  </thead>\n",
       "  <tbody>\n",
       "    <tr>\n",
       "      <th>0</th>\n",
       "      <td>seen heat lot youtube neo amazed type cooling ...</td>\n",
       "      <td>0.254167</td>\n",
       "    </tr>\n",
       "    <tr>\n",
       "      <th>1</th>\n",
       "      <td>medium could loaded</td>\n",
       "      <td>0.000000</td>\n",
       "    </tr>\n",
       "    <tr>\n",
       "      <th>2</th>\n",
       "      <td>iqoo neo worst like normal midrange flagship u...</td>\n",
       "      <td>0.020370</td>\n",
       "    </tr>\n",
       "    <tr>\n",
       "      <th>3</th>\n",
       "      <td>never felt kind gaming dominance sign heating ...</td>\n",
       "      <td>0.028500</td>\n",
       "    </tr>\n",
       "    <tr>\n",
       "      <th>4</th>\n",
       "      <td>con night photo bad slow motion video output n...</td>\n",
       "      <td>-0.187500</td>\n",
       "    </tr>\n",
       "  </tbody>\n",
       "</table>\n",
       "</div>"
      ],
      "text/plain": [
       "                                             Reviews  polarity\n",
       "0  seen heat lot youtube neo amazed type cooling ...  0.254167\n",
       "1                                medium could loaded  0.000000\n",
       "2  iqoo neo worst like normal midrange flagship u...  0.020370\n",
       "3  never felt kind gaming dominance sign heating ...  0.028500\n",
       "4  con night photo bad slow motion video output n... -0.187500"
      ]
     },
     "execution_count": 59,
     "metadata": {},
     "output_type": "execute_result"
    }
   ],
   "source": [
    "from textblob import TextBlob\n",
    "data['polarity'] = data['Reviews'].apply(lambda x: TextBlob(x).sentiment[0])\n",
    "data[['Reviews','polarity']].head(5)"
   ]
  },
  {
   "cell_type": "code",
   "execution_count": 60,
   "metadata": {
    "ExecuteTime": {
     "end_time": "2021-01-03T14:22:54.778876Z",
     "start_time": "2021-01-03T14:22:54.762873Z"
    }
   },
   "outputs": [
    {
     "data": {
      "text/html": [
       "<div>\n",
       "<style scoped>\n",
       "    .dataframe tbody tr th:only-of-type {\n",
       "        vertical-align: middle;\n",
       "    }\n",
       "\n",
       "    .dataframe tbody tr th {\n",
       "        vertical-align: top;\n",
       "    }\n",
       "\n",
       "    .dataframe thead th {\n",
       "        text-align: right;\n",
       "    }\n",
       "</style>\n",
       "<table border=\"1\" class=\"dataframe\">\n",
       "  <thead>\n",
       "    <tr style=\"text-align: right;\">\n",
       "      <th></th>\n",
       "      <th>Reviews</th>\n",
       "      <th>sentiment</th>\n",
       "      <th>polarity</th>\n",
       "    </tr>\n",
       "  </thead>\n",
       "  <tbody>\n",
       "    <tr>\n",
       "      <th>0</th>\n",
       "      <td>seen heat lot youtube neo amazed type cooling ...</td>\n",
       "      <td>0.254167</td>\n",
       "      <td>0.254167</td>\n",
       "    </tr>\n",
       "    <tr>\n",
       "      <th>2</th>\n",
       "      <td>iqoo neo worst like normal midrange flagship u...</td>\n",
       "      <td>0.020370</td>\n",
       "      <td>0.020370</td>\n",
       "    </tr>\n",
       "    <tr>\n",
       "      <th>3</th>\n",
       "      <td>never felt kind gaming dominance sign heating ...</td>\n",
       "      <td>0.028500</td>\n",
       "      <td>0.028500</td>\n",
       "    </tr>\n",
       "    <tr>\n",
       "      <th>7</th>\n",
       "      <td>although gaming oriented expected sound least ...</td>\n",
       "      <td>0.065476</td>\n",
       "      <td>0.065476</td>\n",
       "    </tr>\n",
       "    <tr>\n",
       "      <th>8</th>\n",
       "      <td>used day mentioning important point used day d...</td>\n",
       "      <td>0.201111</td>\n",
       "      <td>0.201111</td>\n",
       "    </tr>\n",
       "  </tbody>\n",
       "</table>\n",
       "</div>"
      ],
      "text/plain": [
       "                                             Reviews  sentiment  polarity\n",
       "0  seen heat lot youtube neo amazed type cooling ...   0.254167  0.254167\n",
       "2  iqoo neo worst like normal midrange flagship u...   0.020370  0.020370\n",
       "3  never felt kind gaming dominance sign heating ...   0.028500  0.028500\n",
       "7  although gaming oriented expected sound least ...   0.065476  0.065476\n",
       "8  used day mentioning important point used day d...   0.201111  0.201111"
      ]
     },
     "execution_count": 60,
     "metadata": {},
     "output_type": "execute_result"
    }
   ],
   "source": [
    "# Displaying top 5 positive posts of Category_A\n",
    "data[data.polarity>0].head(5)"
   ]
  },
  {
   "cell_type": "code",
   "execution_count": 61,
   "metadata": {
    "ExecuteTime": {
     "end_time": "2021-01-03T14:23:30.754618Z",
     "start_time": "2021-01-03T14:23:30.746618Z"
    }
   },
   "outputs": [],
   "source": [
    "def sent_type(text): \n",
    "    for i in (text):\n",
    "        if i>0:\n",
    "            print('positive')\n",
    "        elif i==0:\n",
    "            print('neutral')\n",
    "        else:\n",
    "            print('negative')"
   ]
  },
  {
   "cell_type": "code",
   "execution_count": 62,
   "metadata": {
    "ExecuteTime": {
     "end_time": "2021-01-03T14:23:45.105705Z",
     "start_time": "2021-01-03T14:23:45.097711Z"
    }
   },
   "outputs": [
    {
     "name": "stdout",
     "output_type": "stream",
     "text": [
      "positive\n",
      "neutral\n",
      "positive\n",
      "positive\n",
      "negative\n",
      "neutral\n",
      "neutral\n",
      "positive\n",
      "positive\n",
      "negative\n",
      "positive\n",
      "positive\n",
      "positive\n",
      "negative\n",
      "positive\n",
      "negative\n",
      "positive\n",
      "positive\n",
      "negative\n",
      "positive\n",
      "positive\n",
      "negative\n",
      "negative\n",
      "positive\n",
      "positive\n",
      "negative\n",
      "neutral\n",
      "positive\n",
      "positive\n",
      "neutral\n",
      "positive\n",
      "positive\n",
      "positive\n",
      "positive\n",
      "positive\n",
      "positive\n",
      "positive\n",
      "positive\n",
      "positive\n",
      "positive\n",
      "negative\n",
      "positive\n",
      "positive\n",
      "negative\n",
      "positive\n",
      "positive\n",
      "negative\n",
      "positive\n",
      "negative\n",
      "negative\n",
      "positive\n",
      "positive\n",
      "positive\n",
      "positive\n",
      "positive\n",
      "positive\n",
      "negative\n",
      "negative\n",
      "positive\n",
      "neutral\n",
      "negative\n",
      "positive\n",
      "positive\n",
      "negative\n",
      "positive\n",
      "positive\n",
      "positive\n",
      "positive\n",
      "positive\n",
      "negative\n",
      "positive\n",
      "positive\n",
      "positive\n",
      "positive\n",
      "negative\n",
      "positive\n",
      "positive\n",
      "positive\n",
      "positive\n",
      "positive\n",
      "positive\n",
      "positive\n",
      "positive\n",
      "positive\n",
      "positive\n",
      "negative\n",
      "positive\n",
      "positive\n",
      "positive\n",
      "positive\n",
      "positive\n",
      "negative\n",
      "positive\n",
      "positive\n",
      "positive\n",
      "positive\n",
      "positive\n",
      "negative\n",
      "positive\n",
      "positive\n",
      "positive\n",
      "positive\n",
      "positive\n",
      "positive\n",
      "positive\n",
      "positive\n",
      "positive\n",
      "positive\n",
      "positive\n",
      "positive\n",
      "positive\n",
      "positive\n",
      "positive\n",
      "positive\n",
      "positive\n",
      "negative\n",
      "positive\n",
      "negative\n",
      "negative\n",
      "neutral\n",
      "positive\n",
      "negative\n",
      "positive\n",
      "positive\n",
      "positive\n",
      "positive\n",
      "neutral\n",
      "positive\n",
      "positive\n",
      "positive\n",
      "positive\n",
      "positive\n",
      "positive\n",
      "neutral\n",
      "positive\n",
      "positive\n",
      "positive\n",
      "positive\n",
      "negative\n",
      "positive\n",
      "neutral\n",
      "positive\n",
      "positive\n",
      "negative\n",
      "positive\n",
      "positive\n",
      "negative\n",
      "positive\n",
      "neutral\n",
      "negative\n",
      "positive\n",
      "positive\n",
      "negative\n",
      "positive\n",
      "negative\n",
      "positive\n",
      "positive\n",
      "positive\n",
      "positive\n",
      "positive\n",
      "negative\n",
      "positive\n",
      "positive\n",
      "negative\n",
      "positive\n",
      "positive\n",
      "positive\n",
      "positive\n",
      "negative\n",
      "negative\n",
      "positive\n",
      "positive\n",
      "positive\n",
      "positive\n",
      "positive\n",
      "negative\n",
      "positive\n",
      "positive\n",
      "positive\n",
      "positive\n",
      "positive\n",
      "positive\n",
      "positive\n",
      "positive\n",
      "positive\n",
      "positive\n",
      "positive\n",
      "positive\n",
      "positive\n",
      "positive\n",
      "positive\n",
      "positive\n",
      "neutral\n",
      "positive\n",
      "neutral\n",
      "negative\n",
      "negative\n",
      "positive\n",
      "positive\n",
      "positive\n",
      "positive\n",
      "positive\n",
      "negative\n",
      "positive\n",
      "positive\n",
      "positive\n",
      "negative\n",
      "negative\n",
      "positive\n",
      "negative\n",
      "neutral\n",
      "positive\n",
      "negative\n",
      "positive\n",
      "negative\n",
      "positive\n",
      "positive\n",
      "positive\n",
      "positive\n",
      "positive\n",
      "positive\n",
      "positive\n",
      "positive\n",
      "positive\n",
      "positive\n",
      "negative\n",
      "neutral\n",
      "positive\n",
      "positive\n",
      "positive\n",
      "positive\n",
      "positive\n",
      "positive\n",
      "positive\n",
      "positive\n",
      "neutral\n",
      "positive\n",
      "positive\n",
      "positive\n",
      "positive\n",
      "positive\n",
      "positive\n",
      "positive\n",
      "negative\n",
      "neutral\n",
      "neutral\n",
      "positive\n",
      "positive\n",
      "negative\n",
      "positive\n",
      "negative\n",
      "positive\n",
      "positive\n",
      "positive\n",
      "positive\n",
      "neutral\n",
      "negative\n",
      "negative\n",
      "positive\n",
      "positive\n",
      "positive\n",
      "positive\n",
      "positive\n",
      "positive\n",
      "positive\n",
      "neutral\n",
      "neutral\n",
      "positive\n",
      "positive\n",
      "positive\n",
      "negative\n",
      "positive\n",
      "positive\n",
      "positive\n",
      "positive\n",
      "positive\n",
      "positive\n",
      "negative\n",
      "positive\n",
      "neutral\n",
      "positive\n",
      "positive\n",
      "positive\n",
      "positive\n",
      "positive\n",
      "positive\n",
      "positive\n",
      "positive\n",
      "positive\n",
      "positive\n",
      "positive\n",
      "positive\n",
      "positive\n",
      "positive\n",
      "positive\n",
      "neutral\n",
      "positive\n",
      "positive\n",
      "positive\n",
      "positive\n",
      "negative\n",
      "neutral\n",
      "positive\n",
      "positive\n",
      "negative\n",
      "positive\n",
      "positive\n",
      "positive\n",
      "neutral\n",
      "positive\n",
      "positive\n",
      "positive\n",
      "neutral\n",
      "positive\n",
      "positive\n",
      "positive\n",
      "positive\n",
      "positive\n",
      "positive\n",
      "positive\n",
      "positive\n",
      "positive\n",
      "negative\n",
      "positive\n",
      "positive\n",
      "positive\n",
      "neutral\n",
      "positive\n",
      "positive\n",
      "positive\n",
      "positive\n",
      "neutral\n",
      "positive\n",
      "positive\n",
      "neutral\n",
      "positive\n",
      "positive\n",
      "positive\n",
      "positive\n",
      "positive\n",
      "negative\n",
      "positive\n",
      "negative\n",
      "neutral\n",
      "positive\n",
      "positive\n",
      "neutral\n",
      "negative\n",
      "neutral\n",
      "neutral\n",
      "positive\n",
      "positive\n",
      "positive\n",
      "negative\n",
      "neutral\n",
      "positive\n",
      "positive\n",
      "neutral\n",
      "neutral\n",
      "positive\n",
      "neutral\n",
      "positive\n",
      "positive\n",
      "positive\n",
      "positive\n",
      "positive\n",
      "positive\n",
      "neutral\n",
      "neutral\n",
      "positive\n",
      "positive\n",
      "positive\n",
      "positive\n",
      "positive\n",
      "positive\n",
      "positive\n",
      "negative\n",
      "neutral\n",
      "negative\n",
      "positive\n",
      "neutral\n",
      "negative\n",
      "positive\n",
      "negative\n",
      "positive\n",
      "positive\n",
      "negative\n",
      "neutral\n",
      "positive\n",
      "positive\n",
      "positive\n",
      "positive\n",
      "neutral\n",
      "neutral\n",
      "negative\n",
      "negative\n",
      "negative\n",
      "neutral\n",
      "neutral\n",
      "positive\n",
      "positive\n",
      "neutral\n",
      "neutral\n",
      "negative\n",
      "neutral\n",
      "positive\n",
      "negative\n",
      "positive\n",
      "positive\n",
      "positive\n",
      "positive\n",
      "negative\n",
      "positive\n",
      "positive\n",
      "positive\n",
      "positive\n",
      "neutral\n",
      "neutral\n",
      "positive\n",
      "neutral\n",
      "neutral\n",
      "positive\n",
      "positive\n",
      "neutral\n",
      "neutral\n",
      "neutral\n",
      "neutral\n",
      "positive\n",
      "positive\n",
      "neutral\n",
      "positive\n",
      "neutral\n",
      "positive\n",
      "neutral\n",
      "positive\n",
      "neutral\n",
      "positive\n",
      "neutral\n",
      "positive\n",
      "positive\n",
      "positive\n",
      "positive\n",
      "positive\n",
      "neutral\n",
      "neutral\n",
      "positive\n",
      "negative\n",
      "positive\n",
      "positive\n",
      "positive\n",
      "negative\n",
      "positive\n",
      "neutral\n",
      "positive\n",
      "neutral\n",
      "positive\n",
      "positive\n",
      "neutral\n",
      "negative\n",
      "positive\n",
      "positive\n",
      "positive\n",
      "positive\n",
      "negative\n",
      "positive\n",
      "positive\n",
      "positive\n",
      "positive\n",
      "positive\n",
      "negative\n",
      "positive\n",
      "negative\n",
      "positive\n",
      "negative\n",
      "neutral\n",
      "neutral\n",
      "positive\n",
      "positive\n",
      "positive\n",
      "positive\n",
      "positive\n",
      "neutral\n",
      "neutral\n",
      "positive\n",
      "positive\n",
      "positive\n",
      "positive\n",
      "positive\n",
      "neutral\n",
      "positive\n",
      "positive\n",
      "neutral\n",
      "positive\n",
      "negative\n",
      "positive\n",
      "positive\n",
      "positive\n",
      "neutral\n",
      "positive\n",
      "positive\n",
      "neutral\n",
      "neutral\n",
      "neutral\n",
      "negative\n",
      "positive\n",
      "neutral\n",
      "positive\n",
      "positive\n",
      "positive\n",
      "neutral\n",
      "neutral\n",
      "negative\n",
      "negative\n",
      "neutral\n",
      "positive\n",
      "positive\n",
      "positive\n",
      "positive\n",
      "positive\n",
      "positive\n",
      "positive\n",
      "neutral\n",
      "positive\n",
      "positive\n",
      "positive\n",
      "positive\n",
      "positive\n",
      "positive\n",
      "positive\n",
      "positive\n",
      "positive\n",
      "positive\n",
      "neutral\n",
      "positive\n",
      "positive\n",
      "negative\n",
      "positive\n",
      "positive\n",
      "positive\n",
      "neutral\n",
      "negative\n",
      "neutral\n",
      "positive\n",
      "positive\n",
      "positive\n",
      "positive\n",
      "neutral\n",
      "negative\n",
      "neutral\n",
      "positive\n",
      "positive\n",
      "positive\n",
      "positive\n",
      "negative\n",
      "neutral\n",
      "positive\n",
      "positive\n",
      "negative\n",
      "positive\n",
      "positive\n",
      "positive\n",
      "neutral\n",
      "positive\n",
      "positive\n",
      "positive\n",
      "neutral\n",
      "positive\n",
      "positive\n",
      "positive\n",
      "positive\n",
      "neutral\n",
      "positive\n",
      "positive\n",
      "positive\n",
      "positive\n",
      "positive\n",
      "positive\n",
      "positive\n",
      "positive\n",
      "neutral\n",
      "neutral\n",
      "neutral\n",
      "positive\n",
      "positive\n",
      "negative\n",
      "negative\n",
      "neutral\n",
      "positive\n",
      "negative\n",
      "negative\n",
      "positive\n",
      "neutral\n",
      "neutral\n",
      "negative\n",
      "positive\n",
      "neutral\n",
      "neutral\n",
      "positive\n",
      "positive\n",
      "neutral\n",
      "positive\n",
      "positive\n",
      "neutral\n",
      "neutral\n",
      "positive\n",
      "positive\n",
      "positive\n",
      "neutral\n",
      "positive\n",
      "positive\n",
      "neutral\n",
      "negative\n",
      "positive\n",
      "neutral\n",
      "positive\n",
      "neutral\n",
      "neutral\n",
      "positive\n",
      "positive\n",
      "neutral\n",
      "positive\n",
      "positive\n",
      "neutral\n",
      "neutral\n",
      "positive\n",
      "neutral\n",
      "positive\n",
      "positive\n",
      "positive\n",
      "positive\n",
      "neutral\n",
      "neutral\n",
      "neutral\n",
      "positive\n",
      "positive\n",
      "positive\n",
      "positive\n",
      "positive\n",
      "negative\n",
      "positive\n",
      "positive\n",
      "positive\n",
      "negative\n",
      "neutral\n",
      "negative\n",
      "neutral\n",
      "neutral\n",
      "positive\n",
      "neutral\n",
      "positive\n",
      "positive\n",
      "neutral\n",
      "positive\n",
      "neutral\n",
      "neutral\n",
      "negative\n",
      "positive\n",
      "negative\n",
      "positive\n",
      "neutral\n",
      "positive\n",
      "positive\n",
      "positive\n",
      "neutral\n",
      "neutral\n",
      "neutral\n",
      "neutral\n",
      "negative\n",
      "positive\n",
      "positive\n",
      "positive\n",
      "positive\n",
      "neutral\n",
      "positive\n",
      "neutral\n",
      "positive\n",
      "neutral\n",
      "positive\n",
      "neutral\n",
      "neutral\n",
      "positive\n",
      "neutral\n",
      "positive\n",
      "negative\n",
      "neutral\n",
      "positive\n",
      "neutral\n",
      "positive\n",
      "positive\n",
      "neutral\n",
      "positive\n",
      "neutral\n",
      "positive\n",
      "positive\n",
      "neutral\n",
      "neutral\n",
      "positive\n",
      "neutral\n",
      "positive\n",
      "neutral\n",
      "negative\n",
      "neutral\n",
      "neutral\n",
      "negative\n",
      "positive\n",
      "neutral\n",
      "neutral\n",
      "positive\n",
      "neutral\n",
      "positive\n",
      "positive\n",
      "neutral\n",
      "positive\n",
      "neutral\n",
      "neutral\n",
      "positive\n",
      "neutral\n",
      "positive\n",
      "positive\n",
      "positive\n",
      "neutral\n",
      "positive\n",
      "positive\n",
      "neutral\n",
      "positive\n",
      "positive\n",
      "neutral\n",
      "negative\n",
      "positive\n",
      "positive\n",
      "neutral\n",
      "positive\n",
      "positive\n",
      "positive\n",
      "neutral\n",
      "neutral\n",
      "positive\n",
      "positive\n",
      "neutral\n",
      "positive\n",
      "positive\n",
      "positive\n",
      "negative\n",
      "positive\n",
      "neutral\n",
      "positive\n",
      "positive\n",
      "negative\n",
      "positive\n",
      "neutral\n",
      "positive\n",
      "positive\n",
      "negative\n",
      "positive\n",
      "positive\n",
      "positive\n",
      "neutral\n",
      "positive\n",
      "positive\n",
      "negative\n",
      "negative\n",
      "neutral\n",
      "neutral\n",
      "neutral\n",
      "positive\n",
      "positive\n",
      "negative\n",
      "positive\n",
      "neutral\n",
      "positive\n",
      "positive\n",
      "positive\n",
      "positive\n",
      "positive\n",
      "positive\n",
      "negative\n",
      "negative\n",
      "positive\n",
      "positive\n",
      "neutral\n",
      "neutral\n",
      "neutral\n",
      "positive\n",
      "neutral\n",
      "neutral\n",
      "positive\n",
      "positive\n",
      "positive\n",
      "positive\n",
      "neutral\n",
      "positive\n",
      "negative\n",
      "neutral\n",
      "positive\n",
      "neutral\n",
      "neutral\n",
      "positive\n",
      "neutral\n",
      "neutral\n",
      "neutral\n",
      "positive\n",
      "positive\n",
      "neutral\n",
      "positive\n",
      "positive\n",
      "neutral\n",
      "neutral\n",
      "neutral\n",
      "positive\n",
      "neutral\n",
      "neutral\n",
      "neutral\n",
      "neutral\n",
      "positive\n",
      "positive\n",
      "positive\n",
      "neutral\n",
      "neutral\n",
      "positive\n",
      "positive\n",
      "positive\n",
      "negative\n",
      "neutral\n",
      "negative\n",
      "neutral\n",
      "positive\n",
      "neutral\n",
      "positive\n",
      "neutral\n",
      "negative\n",
      "neutral\n",
      "positive\n",
      "neutral\n",
      "positive\n",
      "neutral\n",
      "positive\n",
      "positive\n",
      "positive\n",
      "positive\n",
      "negative\n",
      "neutral\n",
      "positive\n",
      "positive\n",
      "neutral\n",
      "neutral\n",
      "positive\n",
      "positive\n",
      "positive\n",
      "positive\n",
      "negative\n",
      "neutral\n",
      "positive\n",
      "neutral\n",
      "positive\n",
      "neutral\n",
      "positive\n",
      "neutral\n",
      "neutral\n",
      "positive\n",
      "negative\n",
      "neutral\n",
      "positive\n",
      "positive\n",
      "positive\n",
      "neutral\n",
      "positive\n",
      "neutral\n",
      "neutral\n",
      "positive\n",
      "neutral\n",
      "neutral\n",
      "neutral\n",
      "positive\n",
      "neutral\n",
      "positive\n",
      "neutral\n",
      "positive\n",
      "neutral\n",
      "positive\n",
      "neutral\n",
      "positive\n",
      "positive\n",
      "neutral\n",
      "positive\n",
      "neutral\n",
      "positive\n",
      "positive\n",
      "neutral\n",
      "neutral\n",
      "positive\n",
      "positive\n",
      "neutral\n",
      "positive\n",
      "neutral\n",
      "neutral\n",
      "neutral\n",
      "neutral\n",
      "neutral\n",
      "neutral\n",
      "positive\n",
      "positive\n",
      "neutral\n",
      "neutral\n",
      "neutral\n",
      "neutral\n",
      "neutral\n",
      "neutral\n",
      "neutral\n",
      "neutral\n",
      "positive\n",
      "neutral\n",
      "positive\n",
      "positive\n",
      "positive\n",
      "neutral\n",
      "neutral\n",
      "positive\n",
      "positive\n",
      "neutral\n",
      "negative\n",
      "positive\n",
      "positive\n",
      "positive\n",
      "positive\n",
      "positive\n",
      "neutral\n",
      "positive\n",
      "neutral\n",
      "negative\n",
      "positive\n",
      "neutral\n",
      "positive\n",
      "neutral\n",
      "positive\n",
      "neutral\n",
      "positive\n",
      "neutral\n",
      "neutral\n",
      "positive\n",
      "neutral\n",
      "positive\n",
      "neutral\n",
      "neutral\n",
      "positive\n",
      "positive\n",
      "neutral\n",
      "neutral\n",
      "neutral\n",
      "positive\n",
      "neutral\n",
      "negative\n",
      "neutral\n",
      "positive\n",
      "negative\n",
      "neutral\n",
      "positive\n",
      "positive\n",
      "neutral\n",
      "positive\n",
      "positive\n",
      "neutral\n",
      "neutral\n",
      "neutral\n",
      "neutral\n",
      "positive\n",
      "neutral\n",
      "neutral\n",
      "positive\n",
      "positive\n",
      "positive\n",
      "positive\n",
      "neutral\n",
      "negative\n",
      "neutral\n",
      "neutral\n",
      "positive\n",
      "neutral\n",
      "neutral\n",
      "neutral\n",
      "neutral\n",
      "neutral\n",
      "neutral\n",
      "neutral\n",
      "neutral\n",
      "neutral\n",
      "positive\n",
      "positive\n",
      "positive\n",
      "positive\n",
      "neutral\n",
      "positive\n",
      "negative\n",
      "negative\n",
      "neutral\n",
      "positive\n",
      "neutral\n",
      "positive\n",
      "neutral\n",
      "neutral\n",
      "negative\n"
     ]
    }
   ],
   "source": [
    "sent_type(data['polarity'])"
   ]
  },
  {
   "cell_type": "code",
   "execution_count": 63,
   "metadata": {
    "ExecuteTime": {
     "end_time": "2021-01-03T14:24:43.155195Z",
     "start_time": "2021-01-03T14:24:43.147194Z"
    }
   },
   "outputs": [],
   "source": [
    "data[\"category\"]=data['polarity']"
   ]
  },
  {
   "cell_type": "code",
   "execution_count": 64,
   "metadata": {
    "ExecuteTime": {
     "end_time": "2021-01-03T14:24:56.241377Z",
     "start_time": "2021-01-03T14:24:56.065170Z"
    }
   },
   "outputs": [],
   "source": [
    "data.loc[data.category > 0,'category']=\"Positive\"\n",
    "data.loc[data.category !='Positive','category']=\"Negative\""
   ]
  },
  {
   "cell_type": "code",
   "execution_count": 65,
   "metadata": {
    "ExecuteTime": {
     "end_time": "2021-01-03T14:25:07.534655Z",
     "start_time": "2021-01-03T14:25:07.350656Z"
    }
   },
   "outputs": [
    {
     "data": {
      "text/plain": [
       "Reviews        object\n",
       "sentiment     float64\n",
       "polarity      float64\n",
       "category     category\n",
       "dtype: object"
      ]
     },
     "execution_count": 65,
     "metadata": {},
     "output_type": "execute_result"
    }
   ],
   "source": [
    "data[\"category\"]=data[\"category\"].astype('category')\n",
    "data.dtypes"
   ]
  },
  {
   "cell_type": "code",
   "execution_count": 66,
   "metadata": {
    "ExecuteTime": {
     "end_time": "2021-01-03T14:25:26.690773Z",
     "start_time": "2021-01-03T14:25:25.872778Z"
    }
   },
   "outputs": [
    {
     "data": {
      "text/plain": [
       "<AxesSubplot:xlabel='category', ylabel='count'>"
      ]
     },
     "execution_count": 66,
     "metadata": {},
     "output_type": "execute_result"
    },
    {
     "data": {
      "image/png": "[encoded data removed]",
      "text/plain": [
       "<Figure size 432x288 with 1 Axes>"
      ]
     },
     "metadata": {},
     "output_type": "display_data"
    }
   ],
   "source": [
    "sns.countplot(x='category',data=data,palette='hls')"
   ]
  },
  {
   "cell_type": "code",
   "execution_count": 67,
   "metadata": {
    "ExecuteTime": {
     "end_time": "2021-01-03T14:26:27.517736Z",
     "start_time": "2021-01-03T14:26:26.253670Z"
    }
   },
   "outputs": [
    {
     "data": {
      "image/png": "[encoded data removed]",
      "text/plain": [
       "<Figure size 432x288 with 1 Axes>"
      ]
     },
     "metadata": {},
     "output_type": "display_data"
    },
    {
     "data": {
      "image/png": "[encoded data removed]",
      "text/plain": [
       "<Figure size 432x288 with 1 Axes>"
      ]
     },
     "metadata": {},
     "output_type": "display_data"
    }
   ],
   "source": [
    "positive_reviews= data[data.category=='Positive']\n",
    "negative_reviews= data[data.category=='Negative']\n",
    "positive_reviews_text=\" \".join(positive_reviews.Reviews.to_numpy().tolist())\n",
    "negative_reviews_text=\" \".join(negative_reviews.Reviews.to_numpy().tolist())\n",
    "positive_reviews_cloud=WordCloud(background_color='black',max_words=150).generate(positive_reviews_text)\n",
    "negative_reviews_cloud=WordCloud(background_color='black',max_words=150).generate(negative_reviews_text)\n",
    "plt.imshow(positive_reviews_cloud, interpolation='bilinear')\n",
    "plt.axis(\"off\")\n",
    "plt.margins(x=0, y=0) \n",
    "plt.show()\n",
    "plt.imshow(negative_reviews_cloud,interpolation='bilinear')\n",
    "plt.axis(\"off\")\n",
    "plt.margins(x=0, y=0) \n",
    "plt.show()"
   ]
  },
  {
   "cell_type": "code",
   "execution_count": 68,
   "metadata": {},
   "outputs": [
    {
     "data": {
      "text/plain": [
       "Positive    60.0\n",
       "Negative    40.0\n",
       "Name: category, dtype: float64"
      ]
     },
     "execution_count": 68,
     "metadata": {},
     "output_type": "execute_result"
    }
   ],
   "source": [
    "#Percentage of positive review\n",
    "data.category.value_counts(normalize=True).mul(100)"
   ]
  },
  {
   "cell_type": "markdown",
   "metadata": {},
   "source": [
    "# Conclusion:-We got the 60% positive review of iQOO Neo 6 5G (Dark Nova, 8GB RAM, 128GB Storage) | Snapdragon® 870 5G | 80W FlashCharge"
   ]
  },
  {
   "cell_type": "code",
   "execution_count": null,
   "metadata": {},
   "outputs": [],
   "source": []
  }
 ],
 "metadata": {
  "kernelspec": {
   "display_name": "Python 3 (ipykernel)",
   "language": "python",
   "name": "python3"
  },
  "language_info": {
   "codemirror_mode": {
    "name": "ipython",
    "version": 3
   },
   "file_extension": ".py",
   "mimetype": "text/x-python",
   "name": "python",
   "nbconvert_exporter": "python",
   "pygments_lexer": "ipython3",
   "version": "3.9.7"
  },
  "varInspector": {
   "cols": {
    "lenName": 16,
    "lenType": 16,
    "lenVar": 40
   },
   "kernels_config": {
    "python": {
     "delete_cmd_postfix": "",
     "delete_cmd_prefix": "del ",
     "library": "var_list.py",
     "varRefreshCmd": "print(var_dic_list())"
    },
    "r": {
     "delete_cmd_postfix": ") ",
     "delete_cmd_prefix": "rm(",
     "library": "var_list.r",
     "varRefreshCmd": "cat(var_dic_list()) "
    }
   },
   "types_to_exclude": [
    "module",
    "function",
    "builtin_function_or_method",
    "instance",
    "_Feature"
   ],
   "window_display": false
  }
 },
 "nbformat": 4,
 "nbformat_minor": 4
}
